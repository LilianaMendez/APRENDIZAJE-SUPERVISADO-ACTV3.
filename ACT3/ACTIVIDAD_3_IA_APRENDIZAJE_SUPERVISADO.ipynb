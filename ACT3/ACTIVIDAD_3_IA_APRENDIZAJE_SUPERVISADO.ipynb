{
  "nbformat": 4,
  "nbformat_minor": 0,
  "metadata": {
    "colab": {
      "provenance": [],
      "authorship_tag": "ABX9TyORWwpN3za4c/OatLvEFtNz",
      "include_colab_link": true
    },
    "kernelspec": {
      "name": "python3",
      "display_name": "Python 3"
    },
    "language_info": {
      "name": "python"
    }
  },
  "cells": [
    {
      "cell_type": "markdown",
      "metadata": {
        "id": "view-in-github",
        "colab_type": "text"
      },
      "source": [
        "<a href=\"https://colab.research.google.com/github/LilianaMendez/APRENDIZAJE-SUPERVISADO-ACTV3./blob/main/ACT3/ACTIVIDAD_3_IA_APRENDIZAJE_SUPERVISADO.ipynb\" target=\"_parent\"><img src=\"https://colab.research.google.com/assets/colab-badge.svg\" alt=\"Open In Colab\"/></a>"
      ]
    },
    {
      "cell_type": "code",
      "execution_count": 45,
      "metadata": {
        "id": "SBAoyJF7raVj"
      },
      "outputs": [],
      "source": [
        "import pandas as pd  #importo pandas"
      ]
    },
    {
      "cell_type": "code",
      "source": [
        "df = pd.read_csv('actividad3bd.csv') # importo la db"
      ],
      "metadata": {
        "id": "VZnUkM3avQtP"
      },
      "execution_count": 46,
      "outputs": []
    },
    {
      "cell_type": "code",
      "source": [
        "df  # reviso la base "
      ],
      "metadata": {
        "colab": {
          "base_uri": "https://localhost:8080/",
          "height": 1000
        },
        "id": "-6xpUbxCvmuc",
        "outputId": "62ffc342-5cf1-41ac-f60d-d3cde9440899"
      },
      "execution_count": 47,
      "outputs": [
        {
          "output_type": "execute_result",
          "data": {
            "text/plain": [
              "      class  \\\n",
              "0      Auto   \n",
              "1    Camera   \n",
              "2      Auto   \n",
              "3    Camera   \n",
              "4    Camera   \n",
              "..      ...   \n",
              "595    Auto   \n",
              "596  Camera   \n",
              "597    Auto   \n",
              "598    Auto   \n",
              "599    Auto   \n",
              "\n",
              "                                                                                                                                                                                                                                                                                                                                                                                                                                                                                                                                                                                                                                                                                                                                                                                                                                                                                                                                                                                                                                                                                                                                                                                                                                                                                                                                                                                                                                                                                                                                                                                                                                                                                                                                                                                                                                                                                                                                                                                                                                                                                                                                                                                                                                                                                                                                                                                                                                                                                                                                                                                                                                                                                                                                                                                                                                                                                                                                                                                                                                                                                                                                                                                                                                                                                                                                                                                                                                                                                                                                                                                                                                                                                                                                                                                                                                                                                                                                                                                                                                                                                                                                                                                                                                                                                                                                                                                                                                                                                                                                                                                                                                                                                                                                                                                                                                                                                                                                                                                                                                                                                                                                                                                                                                                                                                                                                                                                                                                                                                                                                                                                                                                          text  \n",
              "0                                                                                                                                                                                                                                                                                                                                                                                                                                                                                                                                                                                                                                                                                                                                                                                                                                                                                                                                                                                                                                                                                                                                                                                                                                                                                                                                                                                                                                                                                                                                                                                                                                                                                                                                                                                                                                                                                                                                                                                                                                                                                                                                                                                                                                                                                                                                                                                                                                                                                                                                                                                                                                                                                                                                                                                                                                                                                                                                                                                                                                                                                                                                                                                                                                                                                                                                                                                                                                                                                                                                                                                                                                                                                                                                                                                                                                                                                                                                                                                                                                                                                                                                                                                                                                                                                                                                                                                                               I have recently purchased a J30T with moderate miles  I shopped for a car that was looked after and paid more for it  As a former Auto Technician I know what to look for and what to expect yet every time I drive this car I say to my self  Dam that s a great car   and Yes I truly do  The car affords a level of style and comfort that is beyond compare for the price  I had looked at a number of J30 s with some having covered 160K miles   I checked them to see where the problems show  They were great other than just basic owner neglect The car is extremely quiet and smooth yet does not distance itself from a mild degree of sportiness  Performance is smooth yet impressive yet the power is well handled by braking and suspension systems of similar refinement The appointments available with the car were somewhat sparse yet the standard of quality and functionality were apparent  The Bose sound system for example has remarkable output and clarity without all the fancy dials  My only complaint  after 15k miles  is a lack of fold down rear seating and slightly high fuel consumption I went from driving a Porsche to the Infiniti and feel it was a step up in style and understated performance    \n",
              "1                                                                                                                                                                                                                                                                                                                                                                                                                                                                                                                                                                                                                                                                                                                                                                                                                                                                                                                                                                                                                                                                                                                                                                                                                                                                                                                                                                                                                                                                                                                                                                                                                                                                                                                                                                                                                                                                                                                                                                                                                                                                                                                                                                                                                                                                                                                                                                                                                                                                                                                                                                                                                                                                                                                                                      I bought this product because I need instant gratification  I can t stand the torture of waiting for my photos to come back from the lab  and I don t want to pay extravagant sums for one hour developing  The Sony Mavica is the perfect solution for the click happy shutterbug who likes to take lots of photos  but doesn t have an in home darkroom or an interest in the nuances of traditional photography The great thing about the Mavica is that you can take a photo and instantly see how it turned out on the built in color LCD display  If it sucked  take it again until you get it right  Non digital cameras don t come close to offering this feature With film  you take the photo and cross your fingers  If it s a one time shot  forget it  When you re using the Sony Mavica  you can try a variety of shots  with or without flash  and look at the photos until you get what you want  You can take black and white photos or add a  quot sepia quot  effect that looks like an old tyme photo that you get at the county fair A standard high density floppy disk is your  quot film quot  and holds about a ton of standard resolution photos  great for internet use  and half that amount of high resolution pix that you can print out on your printer One criticism that I have heard about this product is that it does not produce the glossy  permanent prints that you get when you use a film camera  If you are willing to spend some extra money  you can get a decent inkjet printer for a few hundred bucks that  when used with special photo paper  prints photos that look a lot like traditional prints  If you go this route and are willing to learn some software  you will get permanent prints that are superior to those that you get from the photo lab You can correct red eye and other common problems  adjust contrast and color just as you do on your TV  and even remove your finger or the camera strap from the shot  You can print wallets and 8 quot x10 quot s to your heart s desire without paying for reprints  The newer Mavicas can store a minute long MPEG movie  complete with sound  And like I said  the photo lab people never see your photos  Start your own  ahem  website  Ooh la la The fact that this camera uses floppy disks poses a problem for some computer owners  People with Windows based PCs generally have floppy drives and can use the Sony Mavica disks  The iMacs  however  don t come with a floppy drive  You ll have to shell out some extra bucks for one if you want to use your Mavica  since I don t think you can connect USB cables like with some other digital cameras If you do consider a Mavica  take note of the useful features that you get with the higher end models  and be sure to get a decent printer and some photo quality paper to get the most out of your purchase br br    \n",
              "2                                                                                                                                                                                                                                                                                                                                                                                                                                                                                                                                                                                                                                                                                                                                                                                                                                                                                                                                                                                                                                                                                                                                                                                                                                                                                                                                                                                                                                                                                                                                                                                                                                                                                                                                                                                                                                                                                                                                                                                                                                                                                                                                                                                                                                                                                                                                                                                                                                                                                                                                                                                                                                                                                                                                                                                                                                                                                                                                                                                                                                                                                                                                                                                                                                                                                                                                                                                                                                                                                                                                                                                                                                                                                                                                                                                                                                                                                                                                                                                                                                                                                                                                                                                                                                          I have owned my Buick since 53000 km and I am now approaching 60000 on it  I must say it s the nicest car I ve owned and driven in a while  I previously owned a 1995 Grand AM which doesn t compare at all to the Buick  I have also test driven a 2002 Malibu  I have also rented a Lincoln Continental which I think is almost comparable to this vehicle  but not quite I was very pleasantly surprised by all of the basic features on this model  There is an indicator light for low fuel  low washer fluid  change engine oil soon  low tire pressure to name a few  As well  the three built in tether hooks in the back for car seats are a must have for me as I have two small children  I took a while to get used to the size of the car as I was previously in a smaller car  As well due to the high back  I m still not entirely comfortable when backing up  I tend to over estimate the size of the back  I would rate this vehicle average to above average on acceleration  Due to it s size and weight  it s not a sports car and I don t think it was meant to appeal to that type of consumer  I find that overall the Buick Century is easy to handle  It s a great car at a reasonable price  You can also read some more info on this car by copying and pasting this link to your browser http auto consumerguide com auto used reviews full index cfm id 2287 htm Happy car shopping    \n",
              "3                                                                                                                                                                                                                                                                                                                                                                                                                                                                                                                                                                                                                                                                                                                                                                                                                                                                                                                                                                                                                                                                                                                                                                                                                                                                                                                                                                                                                                                                                                                                                                                                                                                                                                                                                                                                                                                                                                                                                                                                                                                                                                                                                                                                                                                                                                                                                                                                                                                                                                                                                                                                                                                                                                                                                                                                                                                                                                                                                                                                                                                                                                                                                                                                                                                                                                                                                                                                                                                                                                                                                                                                                                                                                                                                                                                                                                                                                                                                                                                                                                                                                                                                                                                                                                                                                                                                                                                                                                                                                                                                                                                                                                            This was my first Digital camera so I did quite a bit of research  Unfortunately  Pic quality is not everything as I found out  The camera is really cool and takes great pics but the viewer is a bad place  By that I mean that whenever I take a picture I leave a nose print on the LCD screen  It s also a drag to have to slide the lens protector back and forth to turn it on and off  One other big time bummer is that it doesn t come with an AC adapter  Fortunately  I have a SmartMedia reader so I don t have to drain my batteries while downloading pics  One other thing The manual is a damn shame  It looks as if somebody that was about to go on vacation wrote it  I can t recommend this camera because I m not in love it it I just own it  It wasn t a waste of money but If I know then what I know now I would have bought something else  Hope this helps  P S  The batteries It takes 4 AA batteries and it consumes them like mad  Invest in rechargeable is all I can recommend    \n",
              "4     Minolta DiMAGE 7Hi is in a digital SLR with 5 megapixel 2 3  CCD sensor class  currently also populated by Nikon s Coolpix 5700  Sony s DSC F717  and Minolta s own DiMAGE 7i  Besides the high pixel count  these cameras  larger  better sensors and lenses  compared to 1 1 8  format and smaller digicams  result in better tonality  sharper images These days  it seems that digital cameras become obsolete the moment they are manufactured  Minolta DiMAGE 7Hi comes barely 6 months after the introduction of its similar looking sibling  the 7i What compelled Minolta to release an upgrade this soon  What makes the 7Hi stand out  Should you choose it or another camera in its class Minolta  one of the  big three  camera makers  besides Canon and Nikon  and the second most profitable one of the three  is the only one of the bunch that s been for a while without a digital 35mm format SLR body that would work with their lenses  Therefore  it appears  they feel the extra pressure to deliver viable  performance and cost wise  digital photography options to those of Minolta users who are advanced photographers This is very evident in 7Hi  It feels and works like a real photographic camera that happens to be a digital camera  as opposed to a digital age gadget that takes pictures that so many digital cameras are  Its performance  shutter lag  delay between you pressing the button and the camera taking the picture  frames per second speed and count for continuous shooting  time to ready after the shot  image retrieval  and focusing speed  are all at the top of its class   state of the art  7Hi s focusing system is fast and features an option for you to have the camera focus on any point in the frame   Things mentioned so far in this paragraph are all improvements on top of Minolta s own DiMAGE 7i s already impressive performance 7Hi s zoom control is a well dampened and smoothly operating ring that s mechanically linked to optical elements  allowing a very fast  precise  and tactile control of the focal length  By contrast  competitors in its class only offer a  zoom by wire   electronically emulated zoom ring  or  worse  T W zoom buttons  i e  camcorder style zoom controls  7Hi s high legibility display shows image histogram  distribution chart of light and dark parts in the image  in recording and playback modes  allowing you to monitor and optimize exposure  Its lens covers a span from the highly useful  relatively wide in 35mm film camera terms 28mm to the telephoto 200mm  with very little distortion throughout the range   Sony DSC F717 s lens only opens up to 38mm or so at the widest Overall the camera has a solid  quality feel  It comes from the shape and surface of the grip  and from how the various dials and controls operate  I ve played with the Minolta 7i and the Nikon 5700 at the store when I was picking the 7Hi  and to me  the 7Hi as a camera had the best feel of the three overall The camera works with Minolta s impressive flash system  including the powerful 5600HS  that even works wirelessly while preserving TTL   through the lens exposure metering  two excellent macro flashes  great for flowers   other close ups  and a cheaper and less powerful midrange flash  There s also a PC sync socket to trigger studio   generic flashes  no TTL with those though  but with a digicam  you do see the results right away  There are other features that are too numerous to mention here  that may come useful to some photographers Now that you know what s great about this camera  here s what isn t  There is some grain like noise evident in the images  This is especially visible when photographing smooth flat areas of a given color in subdued light  particularly if that color is blue  This is a typical and fundamental problem for all digicams  and I would say is not far out of line with the other prosumer 5MP SLR competition  but I wish 7Hi were the best in this regard as well  No video capture mode in the true sense of the word  I know it s a gimmick  but I like the idea of having a video mode on a digicam  even if it s a 320 x 240 pixels x 15fps for a few seconds  This camera s CPU speed and buffer size would with little doubt allow for at least 320 x 240 x 30fps or 640 x 480 x 15fps  both highly useful for the web streaming media  It s a shame that Minolta did not include this capability  they did provide 7fps capture at an even higher resolution  The capacity of the supplied CompactFlash card is pathetic  The camera battery performance  using the excellent NiMh batteries supplied with the product  is average by today s standards  I am typically getting around 200 shots per charge with my typical flash and AF use  and maybe 250 if no flash is used and no extensive focus   refocus   try again AF activity takes place  Fortunately  7Hi uses  4  AA s  so it is easy to get cost effective extra batteries  such as the ones recommended below  I wish they made the camera USB 2 0 enabled  It s USB1 1 only  like most other digicams Recommended accessories  Maha MH C401FS 100 min NiCd NiMh individual 4 cell charger  Maha 1800mAh NiMh batteries  2 or 3 sets ideal  Lexar 512MB 24X CompactFlash card  more than 1 ideally  Minolta AC Adapter AC 1L  for powering directly off wall outlet  Minolta or Hoya or B W multi coated clear UV protector filter  49mm  Minolta 5600HS flash  LowePro bag to hold it all  Lexar FireWire  if you have it  or USB CF card reader Good shooting    \n",
              "..                                                                                                                                                                                                                                                                                                                                                                                                                                                                                                                                                                                                                                                                                                                                                                                                                                                                                                                                                                                                                                                                                                                                                                                                                                                                                                                                                                                                                                                                                                                                                                                                                                                                                                                                                                                                                                                                                                                                                                                                                                                                                                                                                                                                                                                                                                                                                                                                                                                                                                                                                                                                                                                                                                                                                                                                                                                                                                                                                                                                                                                                                                                                                                                                                                                                                                                                                                                                                                                                                                                                                                                                                                                                                                                                                                                                                                                                                                                                                                                                                                                                                                                                                                                                                                                                                                                                                                                                                                                                                                                                                                                                                                                                                                                                                                                                                                                                                                                                                                                                                                                                                                                                                                                                                                                                                                                                                                                                                                                                                                                                                                                                                                                         ...  \n",
              "595                                                                                                                                                                                                                                                                                                                                                                                                                                                                                                                                                                                                                                                                                                                                                                                                                                                                                                                                                                                                                                                                                                                                                                                                                                                                                                                                                                                                                                                                                                                                                                                                                                                                                                                                                                                                                                                                                                                                                                                                                                                                                                                                                                                                                                                                                                                                                                                                                                                                                                                                                                                                                                                                                                                                                                                                                                                                                                                                                                                                                                                                                                                                                                                                                                                                                                                                                                                                                                                                                                                                                                               Recently our 12 year old Nissan Stanza decided it was time to retire so my wife and I went out car shopping  we ended up buying a 2003 KIA Spectra  It seemed like a nice car  fit and finish is good and the factory stereo sounds really nice for a oem job  We now have 9000 miles on it and the engine is just starting to get broke in  The power and mileage was poorer than I had thought it should be but now it is coming to life  we get about 31MPG  as long as we keep our feet out of it  with the Automatic and it can hold it s own on the freeway  There are a couple drawbacks to freeway driving  the road noise on concrete and older pavement surfaces is really bad  we had to install thick floor mats to help dampen this out and it is still loud  Also if you plan to put two adults in the back seat be advised that the little KIA will want to wander side to side as the front end gets a bit light from the weight of the rear occupants  The ride quality is pretty good  the seats are comfy and it has very ample leg room so long drives aren t too bad  just keep the stereo up a bit to cancel the road noise  I do my own oil changes on a lift so I had a chance to check out the underside of my KIA  most of it looks pretty good down there except for the rear axle mounts  they look to me a bit on the small side  The automatic transmission is a bit on the shift happy side  it shifts to overdrive at any speed even at 25 mph  this makes the engine sound like it is lugging a bit  I usually keep the transmission out of overdrive in town  One nice thing about the interior are all the little nick nacks KIA has engineered into it  the overhead sunglass holder is just neat  as are the individual map lights  The cup holders are adjustable in size and the little cubby in the rear of the center console is nice since the top of the lid also opens up to store small items  All in all it isn t a bad little car for the money  would I buy one again  I think not  Should you  Depends on your prioraties    \n",
              "596                                                                                                                                                                                                                                                                                                                                                                                                                                                                                                                                                                                                                                                                                                                                                                                                                                                                                                                                                                                                                                                                                                                                                                                                                                                                                                                                                                                                                                                                                                                                                                                                                                                                                                                                                                                                                                                                                                                                                                                                                                                                                                                                                                                                                                                                                                                                                                                                                                                                                                                                                                                                                                                                                                                                                                                                                                                                                                                                                                                                                                                                                                                                                                                                                                                                                                                                                                                                                                                                                                                                                                                                                                                                                                                                                                                                                                                                                                                                         I always do a lot of research before I buy anything  anymore  We re talking weeks worth  on the internet  in stores  reading reviews and so on  I needed a digital camera because my scanner died and I need to get pictures on the web for my business  Honestly  I hate having to wait to get them developed also so this worked out for the best I don t use all the features of the camera  In fact I probably use only the very basic ones but that s really all I need  I pretty much just click and shoot a picture  take it to the computer and download it For those very basic things it s been just great  I like that I can see the pictures as I m taking them and scroll through them to see if I took a bad one  The camera takes great pictures  the person pushing the button  me needs a lot of help  I take this camera everywhere with me and put the pictures up on web pages or send through the email  I bought the camera on sale at Best Buy for  300 00 and it came with an 8mb card and I got a 16mb card free  I haven t opened the extra card yet  I picked this camera over a Kodak and I think a Vivitar  My friends that use it keep asking how many more pictures they can take on it  but it s displayed on the camera and it s almost 200 pictures  They re still used to having to change film  I m sure that if I dug out my book and read up on all the features I would love this camera even more  The camera is easy to use and the instruction booklet easy to follow  One bad thing  It eats up batteries like crazy  I finally decided to buy a battery recharger and keep 3 sets of batteries on hand at a time for it  Now the camera and I get along just fine       \n",
              "597                                                                                                                                                                                                                                                                                                                                                                                                                                                                                                                                                                                                                                                                                                                                                                                                                                                                                                                                                                                                                                                                                                                                                                                                                                                                                                                                                                                                                                                                                                                                                                                                                                                                                                                                                                                                                                                                                                                                                                                                                                                                                                                                                                                                                                                                                                                                                                                                                                                                                                                                                                                                                                                                                                                                                                                                                                                                                                                                                                                                                                                                                                                                                                                                                                                                                                                                                                                                                                                                                                                                                                                                                                                                                                                                                                                                                                                                                                                                                                                                                                                                                                                                                                                                                                                                                                                                                                                                                                                                                                                                                                                                                                                                                                                                                                                                                                                                 This car is an all around good buy  If you are into cars  you can really get a lot of extra parts added on to it  It is great for racing and showing off  but if you just need it to drive around   I guess that is ok too  It really is a high quality vehicle  I have had no problems with it and it is still holding up very nicely  It is a great ride and really fun to drive  The best person to buy this would most likely be a guy who is into import cars  It will work for the ladies too though  Acuras are high quality vehicles and I have been impressed with everything about them  My favorite thing about this car is racing  I love to go drag at import car shows and show off my baby  It is already fast and has great handling but can be improved even more br br    \n",
              "598                                                                                                                                                                                                                                                                                                                                                                                                                                                                                                                                                                                                                                                                                                                                                                                                                                                                                                                                                                                                                                                                                                                                                                                                                                                                                                                                                                                                                                                                                                                                                                                                                                                                                                                                                                                                                                                                                                                                                                                                                                                                                                                                                                                                                                                                                                                                                                                                                                                                                                                                                                                                                                                                                                                                                                                                                                                                                                                                                                                                                                                                                                                                                                                                                                    I waited to write this until I have had 4 months of driving my 2000 KIA Sportage My wife has HONDA CRV and I leased a TOYOTA RAV4 for three years so I have a fair amount of knoledge on SUV s  I got the car in forest green which is really pleasing too the eye and the dealership through in tinting and keyless entry It really is a sharp looking SUV  I am 6 2 and it has the most leg room of any SUV in its class which is kinda interesting since it tends to be a few inches shorter than most SUV S The back seat is tight especially if the front passengers are above 5 9 The interior is very basic and simple so do not look for a lot of bells and whistles  One thing that is interesting is that they did put money into one area using a thick truck frame instead of a car frame Also because it is slightly shorter than most SUV S and the wheelbase is comparable to most  the tipping problem seemes to be lessened I have taken pretty sharp turns and the KIA did not show any signs of tipping The electrical problems that occured in previous years has been fixed so there is no problem there  The engine is solid and comparable to others but goes through a breaking through period where it actually has better pickup a month after you drive it than when off the lot  130HP  a little noisy but no big deal decent pickup but not great If you are used to 6 or 8 cylinders you might be disapointed When it is windy and you are going more than 75 mph on the parkway you will feel it This is not a cadillac or a porsche  it is not for great speed or luxorious comfort It is a great looking very fun to drive car however For around town it is great  and short road trips it is a real pleasure The radio could be better with stations that could come in clearer and the position of the rear speakers even though they are good sounding are very poorly placed The front speakers are interesting with tweaters right by the window for great highs A little trick is to take the covers off the rear speakers My ultimate solution was to get a pair of 6 9 speaker and enclosers for the back and problem solved If you dont know what im talking about and high quality sound is important plenty of places will set help you like circuit city speak to the installers not the salespeople By the way I am now at 8 months and not one problem Lovin this suv    \n",
              "599                                                                                                                                                                                                                                                                                                                                                                                                                                                                                                                                                                                                                                                                                                                                                                                                                                                                                                                                                                                                                                                                                                                                                                                                                                                                                                                                                                                                                                                                                                                                                                                                                                                                                                                                                                                                                                                                                                                                                                                                                                                                                                                                                                                                                                                                                                                                                                                                                                                                                                                                                                                                                                                                                                                                                                                                                                                                                                                                                                                                                                                                                                                                                                                                                                                                                                                                                                                                                                                                                                                                                                                                                                                                                                                                                                                                                                                                                                                                                                                                                                                                                                                                                                                                                                                                                                                              I have been a Montero owner since about 1985 and have found these vehicles to be extremely reliable and dependable  I have owned several of them and would buy another  If there is a downside  it is the availability of parts when needed and the dealer network in the Southwest is a bit thin The Montero itself is a tough vehicle compared with its competition and serves well as an off road machine  which is the kind of use that I give it  It is well suited for farm and ranch use as well as for hunting  Generally speaking  it seems to outlast many other sport utilites in its class Properly maintained  it is a strong performer although a bit underpowered for its size and weight Overall  I would recommend that anyone in the market for a true sports utility vehicle put the Montero on their  quot short list quot  to investigate as a long term ownership car that will last a long time As a used vehicle  it is usually underestimated when it is offered with somewhat hight mileage on the odometer most comepetetive sport utes can be consideree pretty well worn at 100k miles a well cared for Montero can be a very good value for the used car buyer who is willing to take the time to check one out  and they are usually available at attractive prices on the used market br br    \n",
              "\n",
              "[600 rows x 2 columns]"
            ],
            "text/html": [
              "\n",
              "  <div id=\"df-559e3c04-c4b2-4212-a815-57b230c21617\">\n",
              "    <div class=\"colab-df-container\">\n",
              "      <div>\n",
              "<style scoped>\n",
              "    .dataframe tbody tr th:only-of-type {\n",
              "        vertical-align: middle;\n",
              "    }\n",
              "\n",
              "    .dataframe tbody tr th {\n",
              "        vertical-align: top;\n",
              "    }\n",
              "\n",
              "    .dataframe thead th {\n",
              "        text-align: right;\n",
              "    }\n",
              "</style>\n",
              "<table border=\"1\" class=\"dataframe\">\n",
              "  <thead>\n",
              "    <tr style=\"text-align: right;\">\n",
              "      <th></th>\n",
              "      <th>class</th>\n",
              "      <th>text</th>\n",
              "    </tr>\n",
              "  </thead>\n",
              "  <tbody>\n",
              "    <tr>\n",
              "      <th>0</th>\n",
              "      <td>Auto</td>\n",
              "      <td>I have recently purchased a J30T with moderate miles  I shopped for a car that was looked after and paid more for it  As a former Auto Technician I know what to look for and what to expect yet every time I drive this car I say to my self  Dam that s a great car   and Yes I truly do  The car affords a level of style and comfort that is beyond compare for the price  I had looked at a number of J30 s with some having covered 160K miles   I checked them to see where the problems show  They were great other than just basic owner neglect The car is extremely quiet and smooth yet does not distance itself from a mild degree of sportiness  Performance is smooth yet impressive yet the power is well handled by braking and suspension systems of similar refinement The appointments available with the car were somewhat sparse yet the standard of quality and functionality were apparent  The Bose sound system for example has remarkable output and clarity without all the fancy dials  My only complaint  after 15k miles  is a lack of fold down rear seating and slightly high fuel consumption I went from driving a Porsche to the Infiniti and feel it was a step up in style and understated performance</td>\n",
              "    </tr>\n",
              "    <tr>\n",
              "      <th>1</th>\n",
              "      <td>Camera</td>\n",
              "      <td>I bought this product because I need instant gratification  I can t stand the torture of waiting for my photos to come back from the lab  and I don t want to pay extravagant sums for one hour developing  The Sony Mavica is the perfect solution for the click happy shutterbug who likes to take lots of photos  but doesn t have an in home darkroom or an interest in the nuances of traditional photography The great thing about the Mavica is that you can take a photo and instantly see how it turned out on the built in color LCD display  If it sucked  take it again until you get it right  Non digital cameras don t come close to offering this feature With film  you take the photo and cross your fingers  If it s a one time shot  forget it  When you re using the Sony Mavica  you can try a variety of shots  with or without flash  and look at the photos until you get what you want  You can take black and white photos or add a  quot sepia quot  effect that looks like an old tyme photo that you get at the county fair A standard high density floppy disk is your  quot film quot  and holds about a ton of standard resolution photos  great for internet use  and half that amount of high resolution pix that you can print out on your printer One criticism that I have heard about this product is that it does not produce the glossy  permanent prints that you get when you use a film camera  If you are willing to spend some extra money  you can get a decent inkjet printer for a few hundred bucks that  when used with special photo paper  prints photos that look a lot like traditional prints  If you go this route and are willing to learn some software  you will get permanent prints that are superior to those that you get from the photo lab You can correct red eye and other common problems  adjust contrast and color just as you do on your TV  and even remove your finger or the camera strap from the shot  You can print wallets and 8 quot x10 quot s to your heart s desire without paying for reprints  The newer Mavicas can store a minute long MPEG movie  complete with sound  And like I said  the photo lab people never see your photos  Start your own  ahem  website  Ooh la la The fact that this camera uses floppy disks poses a problem for some computer owners  People with Windows based PCs generally have floppy drives and can use the Sony Mavica disks  The iMacs  however  don t come with a floppy drive  You ll have to shell out some extra bucks for one if you want to use your Mavica  since I don t think you can connect USB cables like with some other digital cameras If you do consider a Mavica  take note of the useful features that you get with the higher end models  and be sure to get a decent printer and some photo quality paper to get the most out of your purchase br br</td>\n",
              "    </tr>\n",
              "    <tr>\n",
              "      <th>2</th>\n",
              "      <td>Auto</td>\n",
              "      <td>I have owned my Buick since 53000 km and I am now approaching 60000 on it  I must say it s the nicest car I ve owned and driven in a while  I previously owned a 1995 Grand AM which doesn t compare at all to the Buick  I have also test driven a 2002 Malibu  I have also rented a Lincoln Continental which I think is almost comparable to this vehicle  but not quite I was very pleasantly surprised by all of the basic features on this model  There is an indicator light for low fuel  low washer fluid  change engine oil soon  low tire pressure to name a few  As well  the three built in tether hooks in the back for car seats are a must have for me as I have two small children  I took a while to get used to the size of the car as I was previously in a smaller car  As well due to the high back  I m still not entirely comfortable when backing up  I tend to over estimate the size of the back  I would rate this vehicle average to above average on acceleration  Due to it s size and weight  it s not a sports car and I don t think it was meant to appeal to that type of consumer  I find that overall the Buick Century is easy to handle  It s a great car at a reasonable price  You can also read some more info on this car by copying and pasting this link to your browser http auto consumerguide com auto used reviews full index cfm id 2287 htm Happy car shopping</td>\n",
              "    </tr>\n",
              "    <tr>\n",
              "      <th>3</th>\n",
              "      <td>Camera</td>\n",
              "      <td>This was my first Digital camera so I did quite a bit of research  Unfortunately  Pic quality is not everything as I found out  The camera is really cool and takes great pics but the viewer is a bad place  By that I mean that whenever I take a picture I leave a nose print on the LCD screen  It s also a drag to have to slide the lens protector back and forth to turn it on and off  One other big time bummer is that it doesn t come with an AC adapter  Fortunately  I have a SmartMedia reader so I don t have to drain my batteries while downloading pics  One other thing The manual is a damn shame  It looks as if somebody that was about to go on vacation wrote it  I can t recommend this camera because I m not in love it it I just own it  It wasn t a waste of money but If I know then what I know now I would have bought something else  Hope this helps  P S  The batteries It takes 4 AA batteries and it consumes them like mad  Invest in rechargeable is all I can recommend</td>\n",
              "    </tr>\n",
              "    <tr>\n",
              "      <th>4</th>\n",
              "      <td>Camera</td>\n",
              "      <td>Minolta DiMAGE 7Hi is in a digital SLR with 5 megapixel 2 3  CCD sensor class  currently also populated by Nikon s Coolpix 5700  Sony s DSC F717  and Minolta s own DiMAGE 7i  Besides the high pixel count  these cameras  larger  better sensors and lenses  compared to 1 1 8  format and smaller digicams  result in better tonality  sharper images These days  it seems that digital cameras become obsolete the moment they are manufactured  Minolta DiMAGE 7Hi comes barely 6 months after the introduction of its similar looking sibling  the 7i What compelled Minolta to release an upgrade this soon  What makes the 7Hi stand out  Should you choose it or another camera in its class Minolta  one of the  big three  camera makers  besides Canon and Nikon  and the second most profitable one of the three  is the only one of the bunch that s been for a while without a digital 35mm format SLR body that would work with their lenses  Therefore  it appears  they feel the extra pressure to deliver viable  performance and cost wise  digital photography options to those of Minolta users who are advanced photographers This is very evident in 7Hi  It feels and works like a real photographic camera that happens to be a digital camera  as opposed to a digital age gadget that takes pictures that so many digital cameras are  Its performance  shutter lag  delay between you pressing the button and the camera taking the picture  frames per second speed and count for continuous shooting  time to ready after the shot  image retrieval  and focusing speed  are all at the top of its class   state of the art  7Hi s focusing system is fast and features an option for you to have the camera focus on any point in the frame   Things mentioned so far in this paragraph are all improvements on top of Minolta s own DiMAGE 7i s already impressive performance 7Hi s zoom control is a well dampened and smoothly operating ring that s mechanically linked to optical elements  allowing a very fast  precise  and tactile control of the focal length  By contrast  competitors in its class only offer a  zoom by wire   electronically emulated zoom ring  or  worse  T W zoom buttons  i e  camcorder style zoom controls  7Hi s high legibility display shows image histogram  distribution chart of light and dark parts in the image  in recording and playback modes  allowing you to monitor and optimize exposure  Its lens covers a span from the highly useful  relatively wide in 35mm film camera terms 28mm to the telephoto 200mm  with very little distortion throughout the range   Sony DSC F717 s lens only opens up to 38mm or so at the widest Overall the camera has a solid  quality feel  It comes from the shape and surface of the grip  and from how the various dials and controls operate  I ve played with the Minolta 7i and the Nikon 5700 at the store when I was picking the 7Hi  and to me  the 7Hi as a camera had the best feel of the three overall The camera works with Minolta s impressive flash system  including the powerful 5600HS  that even works wirelessly while preserving TTL   through the lens exposure metering  two excellent macro flashes  great for flowers   other close ups  and a cheaper and less powerful midrange flash  There s also a PC sync socket to trigger studio   generic flashes  no TTL with those though  but with a digicam  you do see the results right away  There are other features that are too numerous to mention here  that may come useful to some photographers Now that you know what s great about this camera  here s what isn t  There is some grain like noise evident in the images  This is especially visible when photographing smooth flat areas of a given color in subdued light  particularly if that color is blue  This is a typical and fundamental problem for all digicams  and I would say is not far out of line with the other prosumer 5MP SLR competition  but I wish 7Hi were the best in this regard as well  No video capture mode in the true sense of the word  I know it s a gimmick  but I like the idea of having a video mode on a digicam  even if it s a 320 x 240 pixels x 15fps for a few seconds  This camera s CPU speed and buffer size would with little doubt allow for at least 320 x 240 x 30fps or 640 x 480 x 15fps  both highly useful for the web streaming media  It s a shame that Minolta did not include this capability  they did provide 7fps capture at an even higher resolution  The capacity of the supplied CompactFlash card is pathetic  The camera battery performance  using the excellent NiMh batteries supplied with the product  is average by today s standards  I am typically getting around 200 shots per charge with my typical flash and AF use  and maybe 250 if no flash is used and no extensive focus   refocus   try again AF activity takes place  Fortunately  7Hi uses  4  AA s  so it is easy to get cost effective extra batteries  such as the ones recommended below  I wish they made the camera USB 2 0 enabled  It s USB1 1 only  like most other digicams Recommended accessories  Maha MH C401FS 100 min NiCd NiMh individual 4 cell charger  Maha 1800mAh NiMh batteries  2 or 3 sets ideal  Lexar 512MB 24X CompactFlash card  more than 1 ideally  Minolta AC Adapter AC 1L  for powering directly off wall outlet  Minolta or Hoya or B W multi coated clear UV protector filter  49mm  Minolta 5600HS flash  LowePro bag to hold it all  Lexar FireWire  if you have it  or USB CF card reader Good shooting</td>\n",
              "    </tr>\n",
              "    <tr>\n",
              "      <th>...</th>\n",
              "      <td>...</td>\n",
              "      <td>...</td>\n",
              "    </tr>\n",
              "    <tr>\n",
              "      <th>595</th>\n",
              "      <td>Auto</td>\n",
              "      <td>Recently our 12 year old Nissan Stanza decided it was time to retire so my wife and I went out car shopping  we ended up buying a 2003 KIA Spectra  It seemed like a nice car  fit and finish is good and the factory stereo sounds really nice for a oem job  We now have 9000 miles on it and the engine is just starting to get broke in  The power and mileage was poorer than I had thought it should be but now it is coming to life  we get about 31MPG  as long as we keep our feet out of it  with the Automatic and it can hold it s own on the freeway  There are a couple drawbacks to freeway driving  the road noise on concrete and older pavement surfaces is really bad  we had to install thick floor mats to help dampen this out and it is still loud  Also if you plan to put two adults in the back seat be advised that the little KIA will want to wander side to side as the front end gets a bit light from the weight of the rear occupants  The ride quality is pretty good  the seats are comfy and it has very ample leg room so long drives aren t too bad  just keep the stereo up a bit to cancel the road noise  I do my own oil changes on a lift so I had a chance to check out the underside of my KIA  most of it looks pretty good down there except for the rear axle mounts  they look to me a bit on the small side  The automatic transmission is a bit on the shift happy side  it shifts to overdrive at any speed even at 25 mph  this makes the engine sound like it is lugging a bit  I usually keep the transmission out of overdrive in town  One nice thing about the interior are all the little nick nacks KIA has engineered into it  the overhead sunglass holder is just neat  as are the individual map lights  The cup holders are adjustable in size and the little cubby in the rear of the center console is nice since the top of the lid also opens up to store small items  All in all it isn t a bad little car for the money  would I buy one again  I think not  Should you  Depends on your prioraties</td>\n",
              "    </tr>\n",
              "    <tr>\n",
              "      <th>596</th>\n",
              "      <td>Camera</td>\n",
              "      <td>I always do a lot of research before I buy anything  anymore  We re talking weeks worth  on the internet  in stores  reading reviews and so on  I needed a digital camera because my scanner died and I need to get pictures on the web for my business  Honestly  I hate having to wait to get them developed also so this worked out for the best I don t use all the features of the camera  In fact I probably use only the very basic ones but that s really all I need  I pretty much just click and shoot a picture  take it to the computer and download it For those very basic things it s been just great  I like that I can see the pictures as I m taking them and scroll through them to see if I took a bad one  The camera takes great pictures  the person pushing the button  me needs a lot of help  I take this camera everywhere with me and put the pictures up on web pages or send through the email  I bought the camera on sale at Best Buy for  300 00 and it came with an 8mb card and I got a 16mb card free  I haven t opened the extra card yet  I picked this camera over a Kodak and I think a Vivitar  My friends that use it keep asking how many more pictures they can take on it  but it s displayed on the camera and it s almost 200 pictures  They re still used to having to change film  I m sure that if I dug out my book and read up on all the features I would love this camera even more  The camera is easy to use and the instruction booklet easy to follow  One bad thing  It eats up batteries like crazy  I finally decided to buy a battery recharger and keep 3 sets of batteries on hand at a time for it  Now the camera and I get along just fine</td>\n",
              "    </tr>\n",
              "    <tr>\n",
              "      <th>597</th>\n",
              "      <td>Auto</td>\n",
              "      <td>This car is an all around good buy  If you are into cars  you can really get a lot of extra parts added on to it  It is great for racing and showing off  but if you just need it to drive around   I guess that is ok too  It really is a high quality vehicle  I have had no problems with it and it is still holding up very nicely  It is a great ride and really fun to drive  The best person to buy this would most likely be a guy who is into import cars  It will work for the ladies too though  Acuras are high quality vehicles and I have been impressed with everything about them  My favorite thing about this car is racing  I love to go drag at import car shows and show off my baby  It is already fast and has great handling but can be improved even more br br</td>\n",
              "    </tr>\n",
              "    <tr>\n",
              "      <th>598</th>\n",
              "      <td>Auto</td>\n",
              "      <td>I waited to write this until I have had 4 months of driving my 2000 KIA Sportage My wife has HONDA CRV and I leased a TOYOTA RAV4 for three years so I have a fair amount of knoledge on SUV s  I got the car in forest green which is really pleasing too the eye and the dealership through in tinting and keyless entry It really is a sharp looking SUV  I am 6 2 and it has the most leg room of any SUV in its class which is kinda interesting since it tends to be a few inches shorter than most SUV S The back seat is tight especially if the front passengers are above 5 9 The interior is very basic and simple so do not look for a lot of bells and whistles  One thing that is interesting is that they did put money into one area using a thick truck frame instead of a car frame Also because it is slightly shorter than most SUV S and the wheelbase is comparable to most  the tipping problem seemes to be lessened I have taken pretty sharp turns and the KIA did not show any signs of tipping The electrical problems that occured in previous years has been fixed so there is no problem there  The engine is solid and comparable to others but goes through a breaking through period where it actually has better pickup a month after you drive it than when off the lot  130HP  a little noisy but no big deal decent pickup but not great If you are used to 6 or 8 cylinders you might be disapointed When it is windy and you are going more than 75 mph on the parkway you will feel it This is not a cadillac or a porsche  it is not for great speed or luxorious comfort It is a great looking very fun to drive car however For around town it is great  and short road trips it is a real pleasure The radio could be better with stations that could come in clearer and the position of the rear speakers even though they are good sounding are very poorly placed The front speakers are interesting with tweaters right by the window for great highs A little trick is to take the covers off the rear speakers My ultimate solution was to get a pair of 6 9 speaker and enclosers for the back and problem solved If you dont know what im talking about and high quality sound is important plenty of places will set help you like circuit city speak to the installers not the salespeople By the way I am now at 8 months and not one problem Lovin this suv</td>\n",
              "    </tr>\n",
              "    <tr>\n",
              "      <th>599</th>\n",
              "      <td>Auto</td>\n",
              "      <td>I have been a Montero owner since about 1985 and have found these vehicles to be extremely reliable and dependable  I have owned several of them and would buy another  If there is a downside  it is the availability of parts when needed and the dealer network in the Southwest is a bit thin The Montero itself is a tough vehicle compared with its competition and serves well as an off road machine  which is the kind of use that I give it  It is well suited for farm and ranch use as well as for hunting  Generally speaking  it seems to outlast many other sport utilites in its class Properly maintained  it is a strong performer although a bit underpowered for its size and weight Overall  I would recommend that anyone in the market for a true sports utility vehicle put the Montero on their  quot short list quot  to investigate as a long term ownership car that will last a long time As a used vehicle  it is usually underestimated when it is offered with somewhat hight mileage on the odometer most comepetetive sport utes can be consideree pretty well worn at 100k miles a well cared for Montero can be a very good value for the used car buyer who is willing to take the time to check one out  and they are usually available at attractive prices on the used market br br</td>\n",
              "    </tr>\n",
              "  </tbody>\n",
              "</table>\n",
              "<p>600 rows × 2 columns</p>\n",
              "</div>\n",
              "      <button class=\"colab-df-convert\" onclick=\"convertToInteractive('df-559e3c04-c4b2-4212-a815-57b230c21617')\"\n",
              "              title=\"Convert this dataframe to an interactive table.\"\n",
              "              style=\"display:none;\">\n",
              "        \n",
              "  <svg xmlns=\"http://www.w3.org/2000/svg\" height=\"24px\"viewBox=\"0 0 24 24\"\n",
              "       width=\"24px\">\n",
              "    <path d=\"M0 0h24v24H0V0z\" fill=\"none\"/>\n",
              "    <path d=\"M18.56 5.44l.94 2.06.94-2.06 2.06-.94-2.06-.94-.94-2.06-.94 2.06-2.06.94zm-11 1L8.5 8.5l.94-2.06 2.06-.94-2.06-.94L8.5 2.5l-.94 2.06-2.06.94zm10 10l.94 2.06.94-2.06 2.06-.94-2.06-.94-.94-2.06-.94 2.06-2.06.94z\"/><path d=\"M17.41 7.96l-1.37-1.37c-.4-.4-.92-.59-1.43-.59-.52 0-1.04.2-1.43.59L10.3 9.45l-7.72 7.72c-.78.78-.78 2.05 0 2.83L4 21.41c.39.39.9.59 1.41.59.51 0 1.02-.2 1.41-.59l7.78-7.78 2.81-2.81c.8-.78.8-2.07 0-2.86zM5.41 20L4 18.59l7.72-7.72 1.47 1.35L5.41 20z\"/>\n",
              "  </svg>\n",
              "      </button>\n",
              "      \n",
              "  <style>\n",
              "    .colab-df-container {\n",
              "      display:flex;\n",
              "      flex-wrap:wrap;\n",
              "      gap: 12px;\n",
              "    }\n",
              "\n",
              "    .colab-df-convert {\n",
              "      background-color: #E8F0FE;\n",
              "      border: none;\n",
              "      border-radius: 50%;\n",
              "      cursor: pointer;\n",
              "      display: none;\n",
              "      fill: #1967D2;\n",
              "      height: 32px;\n",
              "      padding: 0 0 0 0;\n",
              "      width: 32px;\n",
              "    }\n",
              "\n",
              "    .colab-df-convert:hover {\n",
              "      background-color: #E2EBFA;\n",
              "      box-shadow: 0px 1px 2px rgba(60, 64, 67, 0.3), 0px 1px 3px 1px rgba(60, 64, 67, 0.15);\n",
              "      fill: #174EA6;\n",
              "    }\n",
              "\n",
              "    [theme=dark] .colab-df-convert {\n",
              "      background-color: #3B4455;\n",
              "      fill: #D2E3FC;\n",
              "    }\n",
              "\n",
              "    [theme=dark] .colab-df-convert:hover {\n",
              "      background-color: #434B5C;\n",
              "      box-shadow: 0px 1px 3px 1px rgba(0, 0, 0, 0.15);\n",
              "      filter: drop-shadow(0px 1px 2px rgba(0, 0, 0, 0.3));\n",
              "      fill: #FFFFFF;\n",
              "    }\n",
              "  </style>\n",
              "\n",
              "      <script>\n",
              "        const buttonEl =\n",
              "          document.querySelector('#df-559e3c04-c4b2-4212-a815-57b230c21617 button.colab-df-convert');\n",
              "        buttonEl.style.display =\n",
              "          google.colab.kernel.accessAllowed ? 'block' : 'none';\n",
              "\n",
              "        async function convertToInteractive(key) {\n",
              "          const element = document.querySelector('#df-559e3c04-c4b2-4212-a815-57b230c21617');\n",
              "          const dataTable =\n",
              "            await google.colab.kernel.invokeFunction('convertToInteractive',\n",
              "                                                     [key], {});\n",
              "          if (!dataTable) return;\n",
              "\n",
              "          const docLinkHtml = 'Like what you see? Visit the ' +\n",
              "            '<a target=\"_blank\" href=https://colab.research.google.com/notebooks/data_table.ipynb>data table notebook</a>'\n",
              "            + ' to learn more about interactive tables.';\n",
              "          element.innerHTML = '';\n",
              "          dataTable['output_type'] = 'display_data';\n",
              "          await google.colab.output.renderOutput(dataTable, element);\n",
              "          const docLink = document.createElement('div');\n",
              "          docLink.innerHTML = docLinkHtml;\n",
              "          element.appendChild(docLink);\n",
              "        }\n",
              "      </script>\n",
              "    </div>\n",
              "  </div>\n",
              "  "
            ]
          },
          "metadata": {},
          "execution_count": 47
        }
      ]
    },
    {
      "cell_type": "code",
      "source": [
        "df.info  #reviso la informacion de los datos"
      ],
      "metadata": {
        "colab": {
          "base_uri": "https://localhost:8080/"
        },
        "id": "BzGztg3kwPmC",
        "outputId": "7160d922-e3cc-484a-bf73-5908ca746c85"
      },
      "execution_count": 48,
      "outputs": [
        {
          "output_type": "execute_result",
          "data": {
            "text/plain": [
              "<bound method DataFrame.info of       class  \\\n",
              "0      Auto   \n",
              "1    Camera   \n",
              "2      Auto   \n",
              "3    Camera   \n",
              "4    Camera   \n",
              "..      ...   \n",
              "595    Auto   \n",
              "596  Camera   \n",
              "597    Auto   \n",
              "598    Auto   \n",
              "599    Auto   \n",
              "\n",
              "                                                                                                                                                                                                                                                                                                                                                                                                                                                                                                                                                                                                                                                                                                                                                                                                                                                                                                                                                                                                                                                                                                                                                                                                                                                                                                                                                                                                                                                                                                                                                                                                                                                                                                                                                                                                                                                                                                                                                                                                                                                                                                                                                                                                                                                                                                                                                                                                                                                                                                                                                                                                                                                                                                                                                                                                                                                                                                                                                                                                                                                                                                                                                                                                                                                                                                                                                                                                                                                                                                                                                                                                                                                                                                                                                                                                                                                                                                                                                                                                                                                                                                                                                                                                                                                                                                                                                                                                                                                                                                                                                                                                                                                                                                                                                                                                                                                                                                                                                                                                                                                                                                                                                                                                                                                                                                                                                                                                                                                                                                                                                                                                                                                          text  \n",
              "0                                                                                                                                                                                                                                                                                                                                                                                                                                                                                                                                                                                                                                                                                                                                                                                                                                                                                                                                                                                                                                                                                                                                                                                                                                                                                                                                                                                                                                                                                                                                                                                                                                                                                                                                                                                                                                                                                                                                                                                                                                                                                                                                                                                                                                                                                                                                                                                                                                                                                                                                                                                                                                                                                                                                                                                                                                                                                                                                                                                                                                                                                                                                                                                                                                                                                                                                                                                                                                                                                                                                                                                                                                                                                                                                                                                                                                                                                                                                                                                                                                                                                                                                                                                                                                                                                                                                                                                                               I have recently purchased a J30T with moderate miles  I shopped for a car that was looked after and paid more for it  As a former Auto Technician I know what to look for and what to expect yet every time I drive this car I say to my self  Dam that s a great car   and Yes I truly do  The car affords a level of style and comfort that is beyond compare for the price  I had looked at a number of J30 s with some having covered 160K miles   I checked them to see where the problems show  They were great other than just basic owner neglect The car is extremely quiet and smooth yet does not distance itself from a mild degree of sportiness  Performance is smooth yet impressive yet the power is well handled by braking and suspension systems of similar refinement The appointments available with the car were somewhat sparse yet the standard of quality and functionality were apparent  The Bose sound system for example has remarkable output and clarity without all the fancy dials  My only complaint  after 15k miles  is a lack of fold down rear seating and slightly high fuel consumption I went from driving a Porsche to the Infiniti and feel it was a step up in style and understated performance    \n",
              "1                                                                                                                                                                                                                                                                                                                                                                                                                                                                                                                                                                                                                                                                                                                                                                                                                                                                                                                                                                                                                                                                                                                                                                                                                                                                                                                                                                                                                                                                                                                                                                                                                                                                                                                                                                                                                                                                                                                                                                                                                                                                                                                                                                                                                                                                                                                                                                                                                                                                                                                                                                                                                                                                                                                                                      I bought this product because I need instant gratification  I can t stand the torture of waiting for my photos to come back from the lab  and I don t want to pay extravagant sums for one hour developing  The Sony Mavica is the perfect solution for the click happy shutterbug who likes to take lots of photos  but doesn t have an in home darkroom or an interest in the nuances of traditional photography The great thing about the Mavica is that you can take a photo and instantly see how it turned out on the built in color LCD display  If it sucked  take it again until you get it right  Non digital cameras don t come close to offering this feature With film  you take the photo and cross your fingers  If it s a one time shot  forget it  When you re using the Sony Mavica  you can try a variety of shots  with or without flash  and look at the photos until you get what you want  You can take black and white photos or add a  quot sepia quot  effect that looks like an old tyme photo that you get at the county fair A standard high density floppy disk is your  quot film quot  and holds about a ton of standard resolution photos  great for internet use  and half that amount of high resolution pix that you can print out on your printer One criticism that I have heard about this product is that it does not produce the glossy  permanent prints that you get when you use a film camera  If you are willing to spend some extra money  you can get a decent inkjet printer for a few hundred bucks that  when used with special photo paper  prints photos that look a lot like traditional prints  If you go this route and are willing to learn some software  you will get permanent prints that are superior to those that you get from the photo lab You can correct red eye and other common problems  adjust contrast and color just as you do on your TV  and even remove your finger or the camera strap from the shot  You can print wallets and 8 quot x10 quot s to your heart s desire without paying for reprints  The newer Mavicas can store a minute long MPEG movie  complete with sound  And like I said  the photo lab people never see your photos  Start your own  ahem  website  Ooh la la The fact that this camera uses floppy disks poses a problem for some computer owners  People with Windows based PCs generally have floppy drives and can use the Sony Mavica disks  The iMacs  however  don t come with a floppy drive  You ll have to shell out some extra bucks for one if you want to use your Mavica  since I don t think you can connect USB cables like with some other digital cameras If you do consider a Mavica  take note of the useful features that you get with the higher end models  and be sure to get a decent printer and some photo quality paper to get the most out of your purchase br br    \n",
              "2                                                                                                                                                                                                                                                                                                                                                                                                                                                                                                                                                                                                                                                                                                                                                                                                                                                                                                                                                                                                                                                                                                                                                                                                                                                                                                                                                                                                                                                                                                                                                                                                                                                                                                                                                                                                                                                                                                                                                                                                                                                                                                                                                                                                                                                                                                                                                                                                                                                                                                                                                                                                                                                                                                                                                                                                                                                                                                                                                                                                                                                                                                                                                                                                                                                                                                                                                                                                                                                                                                                                                                                                                                                                                                                                                                                                                                                                                                                                                                                                                                                                                                                                                                                                                                          I have owned my Buick since 53000 km and I am now approaching 60000 on it  I must say it s the nicest car I ve owned and driven in a while  I previously owned a 1995 Grand AM which doesn t compare at all to the Buick  I have also test driven a 2002 Malibu  I have also rented a Lincoln Continental which I think is almost comparable to this vehicle  but not quite I was very pleasantly surprised by all of the basic features on this model  There is an indicator light for low fuel  low washer fluid  change engine oil soon  low tire pressure to name a few  As well  the three built in tether hooks in the back for car seats are a must have for me as I have two small children  I took a while to get used to the size of the car as I was previously in a smaller car  As well due to the high back  I m still not entirely comfortable when backing up  I tend to over estimate the size of the back  I would rate this vehicle average to above average on acceleration  Due to it s size and weight  it s not a sports car and I don t think it was meant to appeal to that type of consumer  I find that overall the Buick Century is easy to handle  It s a great car at a reasonable price  You can also read some more info on this car by copying and pasting this link to your browser http auto consumerguide com auto used reviews full index cfm id 2287 htm Happy car shopping    \n",
              "3                                                                                                                                                                                                                                                                                                                                                                                                                                                                                                                                                                                                                                                                                                                                                                                                                                                                                                                                                                                                                                                                                                                                                                                                                                                                                                                                                                                                                                                                                                                                                                                                                                                                                                                                                                                                                                                                                                                                                                                                                                                                                                                                                                                                                                                                                                                                                                                                                                                                                                                                                                                                                                                                                                                                                                                                                                                                                                                                                                                                                                                                                                                                                                                                                                                                                                                                                                                                                                                                                                                                                                                                                                                                                                                                                                                                                                                                                                                                                                                                                                                                                                                                                                                                                                                                                                                                                                                                                                                                                                                                                                                                                                            This was my first Digital camera so I did quite a bit of research  Unfortunately  Pic quality is not everything as I found out  The camera is really cool and takes great pics but the viewer is a bad place  By that I mean that whenever I take a picture I leave a nose print on the LCD screen  It s also a drag to have to slide the lens protector back and forth to turn it on and off  One other big time bummer is that it doesn t come with an AC adapter  Fortunately  I have a SmartMedia reader so I don t have to drain my batteries while downloading pics  One other thing The manual is a damn shame  It looks as if somebody that was about to go on vacation wrote it  I can t recommend this camera because I m not in love it it I just own it  It wasn t a waste of money but If I know then what I know now I would have bought something else  Hope this helps  P S  The batteries It takes 4 AA batteries and it consumes them like mad  Invest in rechargeable is all I can recommend    \n",
              "4     Minolta DiMAGE 7Hi is in a digital SLR with 5 megapixel 2 3  CCD sensor class  currently also populated by Nikon s Coolpix 5700  Sony s DSC F717  and Minolta s own DiMAGE 7i  Besides the high pixel count  these cameras  larger  better sensors and lenses  compared to 1 1 8  format and smaller digicams  result in better tonality  sharper images These days  it seems that digital cameras become obsolete the moment they are manufactured  Minolta DiMAGE 7Hi comes barely 6 months after the introduction of its similar looking sibling  the 7i What compelled Minolta to release an upgrade this soon  What makes the 7Hi stand out  Should you choose it or another camera in its class Minolta  one of the  big three  camera makers  besides Canon and Nikon  and the second most profitable one of the three  is the only one of the bunch that s been for a while without a digital 35mm format SLR body that would work with their lenses  Therefore  it appears  they feel the extra pressure to deliver viable  performance and cost wise  digital photography options to those of Minolta users who are advanced photographers This is very evident in 7Hi  It feels and works like a real photographic camera that happens to be a digital camera  as opposed to a digital age gadget that takes pictures that so many digital cameras are  Its performance  shutter lag  delay between you pressing the button and the camera taking the picture  frames per second speed and count for continuous shooting  time to ready after the shot  image retrieval  and focusing speed  are all at the top of its class   state of the art  7Hi s focusing system is fast and features an option for you to have the camera focus on any point in the frame   Things mentioned so far in this paragraph are all improvements on top of Minolta s own DiMAGE 7i s already impressive performance 7Hi s zoom control is a well dampened and smoothly operating ring that s mechanically linked to optical elements  allowing a very fast  precise  and tactile control of the focal length  By contrast  competitors in its class only offer a  zoom by wire   electronically emulated zoom ring  or  worse  T W zoom buttons  i e  camcorder style zoom controls  7Hi s high legibility display shows image histogram  distribution chart of light and dark parts in the image  in recording and playback modes  allowing you to monitor and optimize exposure  Its lens covers a span from the highly useful  relatively wide in 35mm film camera terms 28mm to the telephoto 200mm  with very little distortion throughout the range   Sony DSC F717 s lens only opens up to 38mm or so at the widest Overall the camera has a solid  quality feel  It comes from the shape and surface of the grip  and from how the various dials and controls operate  I ve played with the Minolta 7i and the Nikon 5700 at the store when I was picking the 7Hi  and to me  the 7Hi as a camera had the best feel of the three overall The camera works with Minolta s impressive flash system  including the powerful 5600HS  that even works wirelessly while preserving TTL   through the lens exposure metering  two excellent macro flashes  great for flowers   other close ups  and a cheaper and less powerful midrange flash  There s also a PC sync socket to trigger studio   generic flashes  no TTL with those though  but with a digicam  you do see the results right away  There are other features that are too numerous to mention here  that may come useful to some photographers Now that you know what s great about this camera  here s what isn t  There is some grain like noise evident in the images  This is especially visible when photographing smooth flat areas of a given color in subdued light  particularly if that color is blue  This is a typical and fundamental problem for all digicams  and I would say is not far out of line with the other prosumer 5MP SLR competition  but I wish 7Hi were the best in this regard as well  No video capture mode in the true sense of the word  I know it s a gimmick  but I like the idea of having a video mode on a digicam  even if it s a 320 x 240 pixels x 15fps for a few seconds  This camera s CPU speed and buffer size would with little doubt allow for at least 320 x 240 x 30fps or 640 x 480 x 15fps  both highly useful for the web streaming media  It s a shame that Minolta did not include this capability  they did provide 7fps capture at an even higher resolution  The capacity of the supplied CompactFlash card is pathetic  The camera battery performance  using the excellent NiMh batteries supplied with the product  is average by today s standards  I am typically getting around 200 shots per charge with my typical flash and AF use  and maybe 250 if no flash is used and no extensive focus   refocus   try again AF activity takes place  Fortunately  7Hi uses  4  AA s  so it is easy to get cost effective extra batteries  such as the ones recommended below  I wish they made the camera USB 2 0 enabled  It s USB1 1 only  like most other digicams Recommended accessories  Maha MH C401FS 100 min NiCd NiMh individual 4 cell charger  Maha 1800mAh NiMh batteries  2 or 3 sets ideal  Lexar 512MB 24X CompactFlash card  more than 1 ideally  Minolta AC Adapter AC 1L  for powering directly off wall outlet  Minolta or Hoya or B W multi coated clear UV protector filter  49mm  Minolta 5600HS flash  LowePro bag to hold it all  Lexar FireWire  if you have it  or USB CF card reader Good shooting    \n",
              "..                                                                                                                                                                                                                                                                                                                                                                                                                                                                                                                                                                                                                                                                                                                                                                                                                                                                                                                                                                                                                                                                                                                                                                                                                                                                                                                                                                                                                                                                                                                                                                                                                                                                                                                                                                                                                                                                                                                                                                                                                                                                                                                                                                                                                                                                                                                                                                                                                                                                                                                                                                                                                                                                                                                                                                                                                                                                                                                                                                                                                                                                                                                                                                                                                                                                                                                                                                                                                                                                                                                                                                                                                                                                                                                                                                                                                                                                                                                                                                                                                                                                                                                                                                                                                                                                                                                                                                                                                                                                                                                                                                                                                                                                                                                                                                                                                                                                                                                                                                                                                                                                                                                                                                                                                                                                                                                                                                                                                                                                                                                                                                                                                                                         ...  \n",
              "595                                                                                                                                                                                                                                                                                                                                                                                                                                                                                                                                                                                                                                                                                                                                                                                                                                                                                                                                                                                                                                                                                                                                                                                                                                                                                                                                                                                                                                                                                                                                                                                                                                                                                                                                                                                                                                                                                                                                                                                                                                                                                                                                                                                                                                                                                                                                                                                                                                                                                                                                                                                                                                                                                                                                                                                                                                                                                                                                                                                                                                                                                                                                                                                                                                                                                                                                                                                                                                                                                                                                                                               Recently our 12 year old Nissan Stanza decided it was time to retire so my wife and I went out car shopping  we ended up buying a 2003 KIA Spectra  It seemed like a nice car  fit and finish is good and the factory stereo sounds really nice for a oem job  We now have 9000 miles on it and the engine is just starting to get broke in  The power and mileage was poorer than I had thought it should be but now it is coming to life  we get about 31MPG  as long as we keep our feet out of it  with the Automatic and it can hold it s own on the freeway  There are a couple drawbacks to freeway driving  the road noise on concrete and older pavement surfaces is really bad  we had to install thick floor mats to help dampen this out and it is still loud  Also if you plan to put two adults in the back seat be advised that the little KIA will want to wander side to side as the front end gets a bit light from the weight of the rear occupants  The ride quality is pretty good  the seats are comfy and it has very ample leg room so long drives aren t too bad  just keep the stereo up a bit to cancel the road noise  I do my own oil changes on a lift so I had a chance to check out the underside of my KIA  most of it looks pretty good down there except for the rear axle mounts  they look to me a bit on the small side  The automatic transmission is a bit on the shift happy side  it shifts to overdrive at any speed even at 25 mph  this makes the engine sound like it is lugging a bit  I usually keep the transmission out of overdrive in town  One nice thing about the interior are all the little nick nacks KIA has engineered into it  the overhead sunglass holder is just neat  as are the individual map lights  The cup holders are adjustable in size and the little cubby in the rear of the center console is nice since the top of the lid also opens up to store small items  All in all it isn t a bad little car for the money  would I buy one again  I think not  Should you  Depends on your prioraties    \n",
              "596                                                                                                                                                                                                                                                                                                                                                                                                                                                                                                                                                                                                                                                                                                                                                                                                                                                                                                                                                                                                                                                                                                                                                                                                                                                                                                                                                                                                                                                                                                                                                                                                                                                                                                                                                                                                                                                                                                                                                                                                                                                                                                                                                                                                                                                                                                                                                                                                                                                                                                                                                                                                                                                                                                                                                                                                                                                                                                                                                                                                                                                                                                                                                                                                                                                                                                                                                                                                                                                                                                                                                                                                                                                                                                                                                                                                                                                                                                                                         I always do a lot of research before I buy anything  anymore  We re talking weeks worth  on the internet  in stores  reading reviews and so on  I needed a digital camera because my scanner died and I need to get pictures on the web for my business  Honestly  I hate having to wait to get them developed also so this worked out for the best I don t use all the features of the camera  In fact I probably use only the very basic ones but that s really all I need  I pretty much just click and shoot a picture  take it to the computer and download it For those very basic things it s been just great  I like that I can see the pictures as I m taking them and scroll through them to see if I took a bad one  The camera takes great pictures  the person pushing the button  me needs a lot of help  I take this camera everywhere with me and put the pictures up on web pages or send through the email  I bought the camera on sale at Best Buy for  300 00 and it came with an 8mb card and I got a 16mb card free  I haven t opened the extra card yet  I picked this camera over a Kodak and I think a Vivitar  My friends that use it keep asking how many more pictures they can take on it  but it s displayed on the camera and it s almost 200 pictures  They re still used to having to change film  I m sure that if I dug out my book and read up on all the features I would love this camera even more  The camera is easy to use and the instruction booklet easy to follow  One bad thing  It eats up batteries like crazy  I finally decided to buy a battery recharger and keep 3 sets of batteries on hand at a time for it  Now the camera and I get along just fine       \n",
              "597                                                                                                                                                                                                                                                                                                                                                                                                                                                                                                                                                                                                                                                                                                                                                                                                                                                                                                                                                                                                                                                                                                                                                                                                                                                                                                                                                                                                                                                                                                                                                                                                                                                                                                                                                                                                                                                                                                                                                                                                                                                                                                                                                                                                                                                                                                                                                                                                                                                                                                                                                                                                                                                                                                                                                                                                                                                                                                                                                                                                                                                                                                                                                                                                                                                                                                                                                                                                                                                                                                                                                                                                                                                                                                                                                                                                                                                                                                                                                                                                                                                                                                                                                                                                                                                                                                                                                                                                                                                                                                                                                                                                                                                                                                                                                                                                                                                                 This car is an all around good buy  If you are into cars  you can really get a lot of extra parts added on to it  It is great for racing and showing off  but if you just need it to drive around   I guess that is ok too  It really is a high quality vehicle  I have had no problems with it and it is still holding up very nicely  It is a great ride and really fun to drive  The best person to buy this would most likely be a guy who is into import cars  It will work for the ladies too though  Acuras are high quality vehicles and I have been impressed with everything about them  My favorite thing about this car is racing  I love to go drag at import car shows and show off my baby  It is already fast and has great handling but can be improved even more br br    \n",
              "598                                                                                                                                                                                                                                                                                                                                                                                                                                                                                                                                                                                                                                                                                                                                                                                                                                                                                                                                                                                                                                                                                                                                                                                                                                                                                                                                                                                                                                                                                                                                                                                                                                                                                                                                                                                                                                                                                                                                                                                                                                                                                                                                                                                                                                                                                                                                                                                                                                                                                                                                                                                                                                                                                                                                                                                                                                                                                                                                                                                                                                                                                                                                                                                                                                    I waited to write this until I have had 4 months of driving my 2000 KIA Sportage My wife has HONDA CRV and I leased a TOYOTA RAV4 for three years so I have a fair amount of knoledge on SUV s  I got the car in forest green which is really pleasing too the eye and the dealership through in tinting and keyless entry It really is a sharp looking SUV  I am 6 2 and it has the most leg room of any SUV in its class which is kinda interesting since it tends to be a few inches shorter than most SUV S The back seat is tight especially if the front passengers are above 5 9 The interior is very basic and simple so do not look for a lot of bells and whistles  One thing that is interesting is that they did put money into one area using a thick truck frame instead of a car frame Also because it is slightly shorter than most SUV S and the wheelbase is comparable to most  the tipping problem seemes to be lessened I have taken pretty sharp turns and the KIA did not show any signs of tipping The electrical problems that occured in previous years has been fixed so there is no problem there  The engine is solid and comparable to others but goes through a breaking through period where it actually has better pickup a month after you drive it than when off the lot  130HP  a little noisy but no big deal decent pickup but not great If you are used to 6 or 8 cylinders you might be disapointed When it is windy and you are going more than 75 mph on the parkway you will feel it This is not a cadillac or a porsche  it is not for great speed or luxorious comfort It is a great looking very fun to drive car however For around town it is great  and short road trips it is a real pleasure The radio could be better with stations that could come in clearer and the position of the rear speakers even though they are good sounding are very poorly placed The front speakers are interesting with tweaters right by the window for great highs A little trick is to take the covers off the rear speakers My ultimate solution was to get a pair of 6 9 speaker and enclosers for the back and problem solved If you dont know what im talking about and high quality sound is important plenty of places will set help you like circuit city speak to the installers not the salespeople By the way I am now at 8 months and not one problem Lovin this suv    \n",
              "599                                                                                                                                                                                                                                                                                                                                                                                                                                                                                                                                                                                                                                                                                                                                                                                                                                                                                                                                                                                                                                                                                                                                                                                                                                                                                                                                                                                                                                                                                                                                                                                                                                                                                                                                                                                                                                                                                                                                                                                                                                                                                                                                                                                                                                                                                                                                                                                                                                                                                                                                                                                                                                                                                                                                                                                                                                                                                                                                                                                                                                                                                                                                                                                                                                                                                                                                                                                                                                                                                                                                                                                                                                                                                                                                                                                                                                                                                                                                                                                                                                                                                                                                                                                                                                                                                                                              I have been a Montero owner since about 1985 and have found these vehicles to be extremely reliable and dependable  I have owned several of them and would buy another  If there is a downside  it is the availability of parts when needed and the dealer network in the Southwest is a bit thin The Montero itself is a tough vehicle compared with its competition and serves well as an off road machine  which is the kind of use that I give it  It is well suited for farm and ranch use as well as for hunting  Generally speaking  it seems to outlast many other sport utilites in its class Properly maintained  it is a strong performer although a bit underpowered for its size and weight Overall  I would recommend that anyone in the market for a true sports utility vehicle put the Montero on their  quot short list quot  to investigate as a long term ownership car that will last a long time As a used vehicle  it is usually underestimated when it is offered with somewhat hight mileage on the odometer most comepetetive sport utes can be consideree pretty well worn at 100k miles a well cared for Montero can be a very good value for the used car buyer who is willing to take the time to check one out  and they are usually available at attractive prices on the used market br br    \n",
              "\n",
              "[600 rows x 2 columns]>"
            ]
          },
          "metadata": {},
          "execution_count": 48
        }
      ]
    },
    {
      "cell_type": "code",
      "source": [
        "df.loc[0]  #para ver una sola fila de db"
      ],
      "metadata": {
        "colab": {
          "base_uri": "https://localhost:8080/"
        },
        "id": "xi49h_RxwVdN",
        "outputId": "8c191dcd-0fe0-4b47-a249-337bae6ff87a"
      },
      "execution_count": 49,
      "outputs": [
        {
          "output_type": "execute_result",
          "data": {
            "text/plain": [
              "class                                                                                                                                                                                                                                                                                                                                                                                                                                                                                                                                                                                                                                                                                                                                                                                                                                                                                                                                                                                                                                                                                                                                                                                                                                               Auto\n",
              "text      I have recently purchased a J30T with moderate miles  I shopped for a car that was looked after and paid more for it  As a former Auto Technician I know what to look for and what to expect yet every time I drive this car I say to my self  Dam that s a great car   and Yes I truly do  The car affords a level of style and comfort that is beyond compare for the price  I had looked at a number of J30 s with some having covered 160K miles   I checked them to see where the problems show  They were great other than just basic owner neglect The car is extremely quiet and smooth yet does not distance itself from a mild degree of sportiness  Performance is smooth yet impressive yet the power is well handled by braking and suspension systems of similar refinement The appointments available with the car were somewhat sparse yet the standard of quality and functionality were apparent  The Bose sound system for example has remarkable output and clarity without all the fancy dials  My only complaint  after 15k miles  is a lack of fold down rear seating and slightly high fuel consumption I went from driving a Porsche to the Infiniti and feel it was a step up in style and understated performance  \n",
              "Name: 0, dtype: object"
            ]
          },
          "metadata": {},
          "execution_count": 49
        }
      ]
    },
    {
      "cell_type": "code",
      "source": [
        "pd.set_option(\"display.max_colwidth\", None)  #para ver todo el ancho de la columna "
      ],
      "metadata": {
        "id": "oCxdB0iVwswi"
      },
      "execution_count": 50,
      "outputs": []
    },
    {
      "cell_type": "code",
      "source": [
        "df.loc[0]"
      ],
      "metadata": {
        "colab": {
          "base_uri": "https://localhost:8080/"
        },
        "id": "h_mBMxhA1U3C",
        "outputId": "b6eecde5-9c31-4c86-9f26-340bb4810260"
      },
      "execution_count": 51,
      "outputs": [
        {
          "output_type": "execute_result",
          "data": {
            "text/plain": [
              "class                                                                                                                                                                                                                                                                                                                                                                                                                                                                                                                                                                                                                                                                                                                                                                                                                                                                                                                                                                                                                                                                                                                                                                                                                                               Auto\n",
              "text      I have recently purchased a J30T with moderate miles  I shopped for a car that was looked after and paid more for it  As a former Auto Technician I know what to look for and what to expect yet every time I drive this car I say to my self  Dam that s a great car   and Yes I truly do  The car affords a level of style and comfort that is beyond compare for the price  I had looked at a number of J30 s with some having covered 160K miles   I checked them to see where the problems show  They were great other than just basic owner neglect The car is extremely quiet and smooth yet does not distance itself from a mild degree of sportiness  Performance is smooth yet impressive yet the power is well handled by braking and suspension systems of similar refinement The appointments available with the car were somewhat sparse yet the standard of quality and functionality were apparent  The Bose sound system for example has remarkable output and clarity without all the fancy dials  My only complaint  after 15k miles  is a lack of fold down rear seating and slightly high fuel consumption I went from driving a Porsche to the Infiniti and feel it was a step up in style and understated performance  \n",
              "Name: 0, dtype: object"
            ]
          },
          "metadata": {},
          "execution_count": 51
        }
      ]
    },
    {
      "cell_type": "code",
      "source": [
        "df ['text'].str.count('')   # para contar las palabras que tiene el texto "
      ],
      "metadata": {
        "colab": {
          "base_uri": "https://localhost:8080/"
        },
        "id": "XA04cEpq1mxc",
        "outputId": "ba123cdb-6b26-4121-b830-07752b144400"
      },
      "execution_count": 52,
      "outputs": [
        {
          "output_type": "execute_result",
          "data": {
            "text/plain": [
              "0      1200\n",
              "1      2793\n",
              "2      1365\n",
              "3       979\n",
              "4      5434\n",
              "       ... \n",
              "595    1998\n",
              "596    1652\n",
              "597     764\n",
              "598    2329\n",
              "599    1279\n",
              "Name: text, Length: 600, dtype: int64"
            ]
          },
          "metadata": {},
          "execution_count": 52
        }
      ]
    },
    {
      "cell_type": "code",
      "source": [
        "df ['text'].str.split().str.len()  #para el conteo de palabras sin que tome en cuenta los espacios"
      ],
      "metadata": {
        "colab": {
          "base_uri": "https://localhost:8080/"
        },
        "id": "wMhsXGdI3DuB",
        "outputId": "93f6bf10-13c5-4f6d-d038-88d1a426480c"
      },
      "execution_count": 53,
      "outputs": [
        {
          "output_type": "execute_result",
          "data": {
            "text/plain": [
              "0      221\n",
              "1      536\n",
              "2      278\n",
              "3      202\n",
              "4      974\n",
              "      ... \n",
              "595    408\n",
              "596    341\n",
              "597    158\n",
              "598    461\n",
              "599    237\n",
              "Name: text, Length: 600, dtype: int64"
            ]
          },
          "metadata": {},
          "execution_count": 53
        }
      ]
    },
    {
      "cell_type": "code",
      "source": [
        "df ['text'].str.split().str.len().mean() # promedio de palabras entre todas las filas "
      ],
      "metadata": {
        "colab": {
          "base_uri": "https://localhost:8080/"
        },
        "id": "kB035XMp3tTa",
        "outputId": "34f3cd9b-9318-4d8b-c0ac-3e27cfbe1fd4"
      },
      "execution_count": 54,
      "outputs": [
        {
          "output_type": "execute_result",
          "data": {
            "text/plain": [
              "529.8733333333333"
            ]
          },
          "metadata": {},
          "execution_count": 54
        }
      ]
    },
    {
      "cell_type": "code",
      "source": [
        "df ['text'].str.split().str.len().describe() #describcion de los datos"
      ],
      "metadata": {
        "colab": {
          "base_uri": "https://localhost:8080/"
        },
        "id": "jeGk34XX4XuP",
        "outputId": "b8ba970f-d0d8-4696-868f-b51b99beadaa"
      },
      "execution_count": 55,
      "outputs": [
        {
          "output_type": "execute_result",
          "data": {
            "text/plain": [
              "count     600.000000\n",
              "mean      529.873333\n",
              "std       511.702057\n",
              "min        80.000000\n",
              "25%       237.000000\n",
              "50%       372.000000\n",
              "75%       620.500000\n",
              "max      4982.000000\n",
              "Name: text, dtype: float64"
            ]
          },
          "metadata": {},
          "execution_count": 55
        }
      ]
    },
    {
      "cell_type": "code",
      "source": [
        "df['class'].value_counts()"
      ],
      "metadata": {
        "colab": {
          "base_uri": "https://localhost:8080/"
        },
        "id": "qBIGuJPL5Kw8",
        "outputId": "b96e7446-ce9f-4256-c3e3-2b45c355f349"
      },
      "execution_count": 56,
      "outputs": [
        {
          "output_type": "execute_result",
          "data": {
            "text/plain": [
              "Camera    350\n",
              "Auto      250\n",
              "Name: class, dtype: int64"
            ]
          },
          "metadata": {},
          "execution_count": 56
        }
      ]
    },
    {
      "cell_type": "code",
      "source": [
        "#3 preparar los datos"
      ],
      "metadata": {
        "id": "eq4qHDWg5zOA"
      },
      "execution_count": 57,
      "outputs": []
    },
    {
      "cell_type": "code",
      "source": [
        "df.isnull().values.any()  # identifico datos nulos en la df"
      ],
      "metadata": {
        "colab": {
          "base_uri": "https://localhost:8080/"
        },
        "id": "_iMAx1CA53LQ",
        "outputId": "7ecb08d6-5482-49fc-cd6c-8e451f91df07"
      },
      "execution_count": 58,
      "outputs": [
        {
          "output_type": "execute_result",
          "data": {
            "text/plain": [
              "False"
            ]
          },
          "metadata": {},
          "execution_count": 58
        }
      ]
    },
    {
      "cell_type": "code",
      "source": [
        "df.isnull()  #revisar los datos que encuentre null , no hay ninguno "
      ],
      "metadata": {
        "colab": {
          "base_uri": "https://localhost:8080/",
          "height": 423
        },
        "id": "yFFyfARi6jQ6",
        "outputId": "64937f31-89d6-49cb-8bdf-d942d47196d4"
      },
      "execution_count": 59,
      "outputs": [
        {
          "output_type": "execute_result",
          "data": {
            "text/plain": [
              "     class   text\n",
              "0    False  False\n",
              "1    False  False\n",
              "2    False  False\n",
              "3    False  False\n",
              "4    False  False\n",
              "..     ...    ...\n",
              "595  False  False\n",
              "596  False  False\n",
              "597  False  False\n",
              "598  False  False\n",
              "599  False  False\n",
              "\n",
              "[600 rows x 2 columns]"
            ],
            "text/html": [
              "\n",
              "  <div id=\"df-738fd507-60ba-465b-b18b-e8bbb21bce25\">\n",
              "    <div class=\"colab-df-container\">\n",
              "      <div>\n",
              "<style scoped>\n",
              "    .dataframe tbody tr th:only-of-type {\n",
              "        vertical-align: middle;\n",
              "    }\n",
              "\n",
              "    .dataframe tbody tr th {\n",
              "        vertical-align: top;\n",
              "    }\n",
              "\n",
              "    .dataframe thead th {\n",
              "        text-align: right;\n",
              "    }\n",
              "</style>\n",
              "<table border=\"1\" class=\"dataframe\">\n",
              "  <thead>\n",
              "    <tr style=\"text-align: right;\">\n",
              "      <th></th>\n",
              "      <th>class</th>\n",
              "      <th>text</th>\n",
              "    </tr>\n",
              "  </thead>\n",
              "  <tbody>\n",
              "    <tr>\n",
              "      <th>0</th>\n",
              "      <td>False</td>\n",
              "      <td>False</td>\n",
              "    </tr>\n",
              "    <tr>\n",
              "      <th>1</th>\n",
              "      <td>False</td>\n",
              "      <td>False</td>\n",
              "    </tr>\n",
              "    <tr>\n",
              "      <th>2</th>\n",
              "      <td>False</td>\n",
              "      <td>False</td>\n",
              "    </tr>\n",
              "    <tr>\n",
              "      <th>3</th>\n",
              "      <td>False</td>\n",
              "      <td>False</td>\n",
              "    </tr>\n",
              "    <tr>\n",
              "      <th>4</th>\n",
              "      <td>False</td>\n",
              "      <td>False</td>\n",
              "    </tr>\n",
              "    <tr>\n",
              "      <th>...</th>\n",
              "      <td>...</td>\n",
              "      <td>...</td>\n",
              "    </tr>\n",
              "    <tr>\n",
              "      <th>595</th>\n",
              "      <td>False</td>\n",
              "      <td>False</td>\n",
              "    </tr>\n",
              "    <tr>\n",
              "      <th>596</th>\n",
              "      <td>False</td>\n",
              "      <td>False</td>\n",
              "    </tr>\n",
              "    <tr>\n",
              "      <th>597</th>\n",
              "      <td>False</td>\n",
              "      <td>False</td>\n",
              "    </tr>\n",
              "    <tr>\n",
              "      <th>598</th>\n",
              "      <td>False</td>\n",
              "      <td>False</td>\n",
              "    </tr>\n",
              "    <tr>\n",
              "      <th>599</th>\n",
              "      <td>False</td>\n",
              "      <td>False</td>\n",
              "    </tr>\n",
              "  </tbody>\n",
              "</table>\n",
              "<p>600 rows × 2 columns</p>\n",
              "</div>\n",
              "      <button class=\"colab-df-convert\" onclick=\"convertToInteractive('df-738fd507-60ba-465b-b18b-e8bbb21bce25')\"\n",
              "              title=\"Convert this dataframe to an interactive table.\"\n",
              "              style=\"display:none;\">\n",
              "        \n",
              "  <svg xmlns=\"http://www.w3.org/2000/svg\" height=\"24px\"viewBox=\"0 0 24 24\"\n",
              "       width=\"24px\">\n",
              "    <path d=\"M0 0h24v24H0V0z\" fill=\"none\"/>\n",
              "    <path d=\"M18.56 5.44l.94 2.06.94-2.06 2.06-.94-2.06-.94-.94-2.06-.94 2.06-2.06.94zm-11 1L8.5 8.5l.94-2.06 2.06-.94-2.06-.94L8.5 2.5l-.94 2.06-2.06.94zm10 10l.94 2.06.94-2.06 2.06-.94-2.06-.94-.94-2.06-.94 2.06-2.06.94z\"/><path d=\"M17.41 7.96l-1.37-1.37c-.4-.4-.92-.59-1.43-.59-.52 0-1.04.2-1.43.59L10.3 9.45l-7.72 7.72c-.78.78-.78 2.05 0 2.83L4 21.41c.39.39.9.59 1.41.59.51 0 1.02-.2 1.41-.59l7.78-7.78 2.81-2.81c.8-.78.8-2.07 0-2.86zM5.41 20L4 18.59l7.72-7.72 1.47 1.35L5.41 20z\"/>\n",
              "  </svg>\n",
              "      </button>\n",
              "      \n",
              "  <style>\n",
              "    .colab-df-container {\n",
              "      display:flex;\n",
              "      flex-wrap:wrap;\n",
              "      gap: 12px;\n",
              "    }\n",
              "\n",
              "    .colab-df-convert {\n",
              "      background-color: #E8F0FE;\n",
              "      border: none;\n",
              "      border-radius: 50%;\n",
              "      cursor: pointer;\n",
              "      display: none;\n",
              "      fill: #1967D2;\n",
              "      height: 32px;\n",
              "      padding: 0 0 0 0;\n",
              "      width: 32px;\n",
              "    }\n",
              "\n",
              "    .colab-df-convert:hover {\n",
              "      background-color: #E2EBFA;\n",
              "      box-shadow: 0px 1px 2px rgba(60, 64, 67, 0.3), 0px 1px 3px 1px rgba(60, 64, 67, 0.15);\n",
              "      fill: #174EA6;\n",
              "    }\n",
              "\n",
              "    [theme=dark] .colab-df-convert {\n",
              "      background-color: #3B4455;\n",
              "      fill: #D2E3FC;\n",
              "    }\n",
              "\n",
              "    [theme=dark] .colab-df-convert:hover {\n",
              "      background-color: #434B5C;\n",
              "      box-shadow: 0px 1px 3px 1px rgba(0, 0, 0, 0.15);\n",
              "      filter: drop-shadow(0px 1px 2px rgba(0, 0, 0, 0.3));\n",
              "      fill: #FFFFFF;\n",
              "    }\n",
              "  </style>\n",
              "\n",
              "      <script>\n",
              "        const buttonEl =\n",
              "          document.querySelector('#df-738fd507-60ba-465b-b18b-e8bbb21bce25 button.colab-df-convert');\n",
              "        buttonEl.style.display =\n",
              "          google.colab.kernel.accessAllowed ? 'block' : 'none';\n",
              "\n",
              "        async function convertToInteractive(key) {\n",
              "          const element = document.querySelector('#df-738fd507-60ba-465b-b18b-e8bbb21bce25');\n",
              "          const dataTable =\n",
              "            await google.colab.kernel.invokeFunction('convertToInteractive',\n",
              "                                                     [key], {});\n",
              "          if (!dataTable) return;\n",
              "\n",
              "          const docLinkHtml = 'Like what you see? Visit the ' +\n",
              "            '<a target=\"_blank\" href=https://colab.research.google.com/notebooks/data_table.ipynb>data table notebook</a>'\n",
              "            + ' to learn more about interactive tables.';\n",
              "          element.innerHTML = '';\n",
              "          dataTable['output_type'] = 'display_data';\n",
              "          await google.colab.output.renderOutput(dataTable, element);\n",
              "          const docLink = document.createElement('div');\n",
              "          docLink.innerHTML = docLinkHtml;\n",
              "          element.appendChild(docLink);\n",
              "        }\n",
              "      </script>\n",
              "    </div>\n",
              "  </div>\n",
              "  "
            ]
          },
          "metadata": {},
          "execution_count": 59
        }
      ]
    },
    {
      "cell_type": "code",
      "source": [
        "df.isnull().sum().sum()"
      ],
      "metadata": {
        "colab": {
          "base_uri": "https://localhost:8080/"
        },
        "id": "x-hnARl_7Kj9",
        "outputId": "a63fcfae-7260-4a08-cdc4-12a3f7aebf4a"
      },
      "execution_count": 60,
      "outputs": [
        {
          "output_type": "execute_result",
          "data": {
            "text/plain": [
              "0"
            ]
          },
          "metadata": {},
          "execution_count": 60
        }
      ]
    },
    {
      "cell_type": "code",
      "source": [
        "# 4 entrenar el modelo"
      ],
      "metadata": {
        "id": "GsU9VKrn736B"
      },
      "execution_count": 61,
      "outputs": []
    },
    {
      "cell_type": "code",
      "source": [
        "from sklearn.model_selection import train_test_split\n",
        "train, test = train_test_split(df, test_size=0.33, random_state=42)  # divido los datos en modelo y test "
      ],
      "metadata": {
        "id": "Q8KkZHJU_wZW"
      },
      "execution_count": 62,
      "outputs": []
    },
    {
      "cell_type": "code",
      "source": [
        "train.head(2) #reviso que queden separados los datos  en train "
      ],
      "metadata": {
        "colab": {
          "base_uri": "https://localhost:8080/",
          "height": 381
        },
        "id": "ODkepym0C6f3",
        "outputId": "985bf77d-0557-44e2-caad-52e045c44ed9"
      },
      "execution_count": 63,
      "outputs": [
        {
          "output_type": "execute_result",
          "data": {
            "text/plain": [
              "      class  \\\n",
              "509  Camera   \n",
              "149  Camera   \n",
              "\n",
              "                                                                                                                                                                                                                                                                                                                                                                                                                                                                                                                                                                                                                                                                                                                                                                                                                                                                                                                                                                                                                                                                                                                                                                                                                                                                 text  \n",
              "509   I had been hinting at a digital camera for Christmas but was surprised when my husband actually got one  After talking to several people  both sales people and those that had digital cameras  he chose the Olympus D 490 Zoom  It s been very easy to figure out with the help of the manual  The manual itself is easy to understand and it s not difficult to find something if I have a question  The camera can be used in two different ways  You can simply open the cover and point and shoot  or you can also open the lens cover and view your subjects through the monitor  much like looking through a cam corder screen  So far the pictures have been of good quality  though I haven t tried to print one out yet  Because my main objective at this point is to email pictures to friends and family I can choose a lower resolution setting and get more pictures at a time  but if I chose to print it s very easy to change the settings to a higher resolution  I d like to have a few of the accessories but the camera works just fine without them  they would just make the download to my computer easier and faster  I have an older computer so it takes a couple of minutes to download but not so long that it gets frustrating    \n",
              "149                                                                                                                                                                                                                                                                                                                                                                                                    After looking through a plethora of digital cameras at my local CompUSA  I chose Casio s QV 8000SX  I selected this model for several major reasons  One the camera is reasonably priced  especially when compared to its ling list of features  And talking about features  the QV 8000SX has a laundry list full of them  It has a wonderful 8x zoom  color selection modes that even allow a sepia print setting  And probably the most important feature  very high picture quality  Another feature which I found particularly appealing is the screw mount on the lens  Going back to my 35mm roots  I like the idea of being able to add a filter to protect the lens proper The only feature missing from this excellent unit is an ac adapter  This has to be purchased separately  But apart from that  it s a great camera at a great price br br    "
            ],
            "text/html": [
              "\n",
              "  <div id=\"df-cb087d48-57a8-4717-9564-7e0e77b372a3\">\n",
              "    <div class=\"colab-df-container\">\n",
              "      <div>\n",
              "<style scoped>\n",
              "    .dataframe tbody tr th:only-of-type {\n",
              "        vertical-align: middle;\n",
              "    }\n",
              "\n",
              "    .dataframe tbody tr th {\n",
              "        vertical-align: top;\n",
              "    }\n",
              "\n",
              "    .dataframe thead th {\n",
              "        text-align: right;\n",
              "    }\n",
              "</style>\n",
              "<table border=\"1\" class=\"dataframe\">\n",
              "  <thead>\n",
              "    <tr style=\"text-align: right;\">\n",
              "      <th></th>\n",
              "      <th>class</th>\n",
              "      <th>text</th>\n",
              "    </tr>\n",
              "  </thead>\n",
              "  <tbody>\n",
              "    <tr>\n",
              "      <th>509</th>\n",
              "      <td>Camera</td>\n",
              "      <td>I had been hinting at a digital camera for Christmas but was surprised when my husband actually got one  After talking to several people  both sales people and those that had digital cameras  he chose the Olympus D 490 Zoom  It s been very easy to figure out with the help of the manual  The manual itself is easy to understand and it s not difficult to find something if I have a question  The camera can be used in two different ways  You can simply open the cover and point and shoot  or you can also open the lens cover and view your subjects through the monitor  much like looking through a cam corder screen  So far the pictures have been of good quality  though I haven t tried to print one out yet  Because my main objective at this point is to email pictures to friends and family I can choose a lower resolution setting and get more pictures at a time  but if I chose to print it s very easy to change the settings to a higher resolution  I d like to have a few of the accessories but the camera works just fine without them  they would just make the download to my computer easier and faster  I have an older computer so it takes a couple of minutes to download but not so long that it gets frustrating</td>\n",
              "    </tr>\n",
              "    <tr>\n",
              "      <th>149</th>\n",
              "      <td>Camera</td>\n",
              "      <td>After looking through a plethora of digital cameras at my local CompUSA  I chose Casio s QV 8000SX  I selected this model for several major reasons  One the camera is reasonably priced  especially when compared to its ling list of features  And talking about features  the QV 8000SX has a laundry list full of them  It has a wonderful 8x zoom  color selection modes that even allow a sepia print setting  And probably the most important feature  very high picture quality  Another feature which I found particularly appealing is the screw mount on the lens  Going back to my 35mm roots  I like the idea of being able to add a filter to protect the lens proper The only feature missing from this excellent unit is an ac adapter  This has to be purchased separately  But apart from that  it s a great camera at a great price br br</td>\n",
              "    </tr>\n",
              "  </tbody>\n",
              "</table>\n",
              "</div>\n",
              "      <button class=\"colab-df-convert\" onclick=\"convertToInteractive('df-cb087d48-57a8-4717-9564-7e0e77b372a3')\"\n",
              "              title=\"Convert this dataframe to an interactive table.\"\n",
              "              style=\"display:none;\">\n",
              "        \n",
              "  <svg xmlns=\"http://www.w3.org/2000/svg\" height=\"24px\"viewBox=\"0 0 24 24\"\n",
              "       width=\"24px\">\n",
              "    <path d=\"M0 0h24v24H0V0z\" fill=\"none\"/>\n",
              "    <path d=\"M18.56 5.44l.94 2.06.94-2.06 2.06-.94-2.06-.94-.94-2.06-.94 2.06-2.06.94zm-11 1L8.5 8.5l.94-2.06 2.06-.94-2.06-.94L8.5 2.5l-.94 2.06-2.06.94zm10 10l.94 2.06.94-2.06 2.06-.94-2.06-.94-.94-2.06-.94 2.06-2.06.94z\"/><path d=\"M17.41 7.96l-1.37-1.37c-.4-.4-.92-.59-1.43-.59-.52 0-1.04.2-1.43.59L10.3 9.45l-7.72 7.72c-.78.78-.78 2.05 0 2.83L4 21.41c.39.39.9.59 1.41.59.51 0 1.02-.2 1.41-.59l7.78-7.78 2.81-2.81c.8-.78.8-2.07 0-2.86zM5.41 20L4 18.59l7.72-7.72 1.47 1.35L5.41 20z\"/>\n",
              "  </svg>\n",
              "      </button>\n",
              "      \n",
              "  <style>\n",
              "    .colab-df-container {\n",
              "      display:flex;\n",
              "      flex-wrap:wrap;\n",
              "      gap: 12px;\n",
              "    }\n",
              "\n",
              "    .colab-df-convert {\n",
              "      background-color: #E8F0FE;\n",
              "      border: none;\n",
              "      border-radius: 50%;\n",
              "      cursor: pointer;\n",
              "      display: none;\n",
              "      fill: #1967D2;\n",
              "      height: 32px;\n",
              "      padding: 0 0 0 0;\n",
              "      width: 32px;\n",
              "    }\n",
              "\n",
              "    .colab-df-convert:hover {\n",
              "      background-color: #E2EBFA;\n",
              "      box-shadow: 0px 1px 2px rgba(60, 64, 67, 0.3), 0px 1px 3px 1px rgba(60, 64, 67, 0.15);\n",
              "      fill: #174EA6;\n",
              "    }\n",
              "\n",
              "    [theme=dark] .colab-df-convert {\n",
              "      background-color: #3B4455;\n",
              "      fill: #D2E3FC;\n",
              "    }\n",
              "\n",
              "    [theme=dark] .colab-df-convert:hover {\n",
              "      background-color: #434B5C;\n",
              "      box-shadow: 0px 1px 3px 1px rgba(0, 0, 0, 0.15);\n",
              "      filter: drop-shadow(0px 1px 2px rgba(0, 0, 0, 0.3));\n",
              "      fill: #FFFFFF;\n",
              "    }\n",
              "  </style>\n",
              "\n",
              "      <script>\n",
              "        const buttonEl =\n",
              "          document.querySelector('#df-cb087d48-57a8-4717-9564-7e0e77b372a3 button.colab-df-convert');\n",
              "        buttonEl.style.display =\n",
              "          google.colab.kernel.accessAllowed ? 'block' : 'none';\n",
              "\n",
              "        async function convertToInteractive(key) {\n",
              "          const element = document.querySelector('#df-cb087d48-57a8-4717-9564-7e0e77b372a3');\n",
              "          const dataTable =\n",
              "            await google.colab.kernel.invokeFunction('convertToInteractive',\n",
              "                                                     [key], {});\n",
              "          if (!dataTable) return;\n",
              "\n",
              "          const docLinkHtml = 'Like what you see? Visit the ' +\n",
              "            '<a target=\"_blank\" href=https://colab.research.google.com/notebooks/data_table.ipynb>data table notebook</a>'\n",
              "            + ' to learn more about interactive tables.';\n",
              "          element.innerHTML = '';\n",
              "          dataTable['output_type'] = 'display_data';\n",
              "          await google.colab.output.renderOutput(dataTable, element);\n",
              "          const docLink = document.createElement('div');\n",
              "          docLink.innerHTML = docLinkHtml;\n",
              "          element.appendChild(docLink);\n",
              "        }\n",
              "      </script>\n",
              "    </div>\n",
              "  </div>\n",
              "  "
            ]
          },
          "metadata": {},
          "execution_count": 63
        }
      ]
    },
    {
      "cell_type": "code",
      "source": [
        "test.head(2)  #reviso que queden separados los datos para test"
      ],
      "metadata": {
        "colab": {
          "base_uri": "https://localhost:8080/",
          "height": 745
        },
        "id": "0MnnTxVsDRUZ",
        "outputId": "2a8c7a11-6f8f-4f1b-e3ea-52c8d1e2e388"
      },
      "execution_count": 64,
      "outputs": [
        {
          "output_type": "execute_result",
          "data": {
            "text/plain": [
              "      class  \\\n",
              "110  Camera   \n",
              "419    Auto   \n",
              "\n",
              "                                                                                                                                                                                                                                                                                                                                                                                                                                                                                                                                                                                                                                                                                                                                                                                                                                                                                                                                                                                                                                                                                                                                                                                                                                                                                                                                                                                                                                                                                                                                                                                                                                                                                                                                                                                                                                                                                                                                                                                                                                                                                                                                                                                                                                                                                                                                                                                                                                                                                                                                                                                                                                                                                                                                                                                                                                                                                                                                                                                                                                                                                                                                                                                                                                                                                                                                                                                                                                                                                                                                                                                                                                                                                                                                                                                                                                                                                                                                                                                                                                                                                                                                                                                                                                       text  \n",
              "110   Having looked around the Web for a digital camera I was looking at either the Z1 or the Canon EOD300 Rebel  Unfortunately the Rebel was out of my price range so I bought the Z1  Overall I made a very good choice The camera takes good pictures in the majority of circumstances  You can have full control over the aperture  exposure and focus should you wish too  The camera can take over some or all of the functions too if you wish Low light shooting is easy and there is an option for sunset preserve to keep the warmth of a picture rather than overexpose to simulate full light  Fast moving objects need good light  as you would expect  but the camera can still operate at speeds approaching 1600 ISO  the speeds are quoted in seconds and fractions so you will have to convert to ISO yourself if you are that way inclined Night shooting is an exercise in steadyness and the threaded mount is inline with the lens so tripods are easy to attach and use with the camera  The position of the trigger means taht a decent push is needed often spoiling the shot through movement on the tripod  I tended to use the time delay function after lining the shot up  since the exposur time was generally 2 seconds you wouldnt be able to take moment in time shots anyway as you would blur  however if motion blur was wanted for a set time then the lack of a remote may hinder you The flash was good with the red eye reduction setting annoying  3 distinct flashes are used rather than the usual strobe  but effective The viewfinder shows a full picture but it has an obvious border so you will get more than you see  The LCD screen shows the full picture  observed by me not scientifically proved  The viewfinder and LCD screen are served by the same mechanism and therefore cannot be activated at the same time  Long exposure shots are restricted to 10 seconds maximum  the sensor simply cannot take long exposure  I typically call long exposure at least 1 minute with traditional cameras taking maybe 30 minutes onwards  This is not a fault of the camera as most digital cameras suffer the same fate of  overheated  CCDs  Only the EOD300 can have long exposures  I have seen a 10 minute exposure picture  for a budget camera 10x optical zoom is terrific and even the autofocus at maximum zoom is quick and efficient  A certain knack needs to be adopted with the camera since the shutter trigger is a two position button  A half press will continually focus and a full press will take the picture  therefore if you simply press the button the shutter will appear to be slow since the focusing mechanism will kick in before the picture is taken  If you are anticipating a fast shot then half hold the button to activate the autofocus then the shutter can be activated quickly  Usign this methods the camer was faultless and fast I have never been a fan of megapixels to rate a camera  Rather the resolutions on offer are good and true  2048 scale very well   but dont expect many per a 128Mb card never mind the bundled 16Mb  Colour reproduction is faithful on daylight shots and average for evening shots with maybe a hint of overglow Battery life is great on rechargeables  I got 300 shots from a set of 2100 NIMH before they needed charging and I was using autofocus and zoom a lot  however if you use alkalines then expect 200 before the batteries are drained   note they wont be useless  good enough for remotes or clocks  but they have lost the edge for the drain the camera needs For negative points  the build quality is average  The mechanican shutter jammed on my only 1 week into using it  I couldnt shift between LCD and viewfinder and a heavy press was needed on the back screen to release the shutter  Not good  The battery compartment seems VERY flimsy and I worry about breaking it everytime I use it  and I charge my batteries in a smart charger not internally  No AC supply is included but the majority of people who need one will have a regulated supply to hand anyway The lack of remote function is the only noteable omission from a rather useful bargain camera    \n",
              "419                                                                                                                                                                                                                                                                                                                                                                                                                                                                                                                                                                                                                                                                                                                                                                                                                                                                                                                                                                                                                                                                                                                                                                                                                                                                                                                                                                                                                                                                                                                                                                                                                                                                                                                                                                                                                                                                                                                                                                                                                                                                                                                                                                                                                                                                                                                                                                                                                                                                                                                                                                                                                                                                                                                                                                                                                                                                                                                                                                                                                                                            I bought a 2002 Eclipse because I had a 1992 V4 RS that I had to get rid of due to the birth of my daughter  Now that she no longer requires attention while I m having to manually shift gears  I have me another one  I found the V6 GT to be A LOT tighter than the 1992 I had  My husband and I recently went on an 1 100 mile trip in the car to far West Texas  We found ourselves repeatedly dodging deer  raccoons  jackrabbits  lizards and any other critter that happened on the road  The Eclipse hugged the curves  stayed on the road and responded quickly and this was at speeds of 80 90 miles per hour  It is also quite a bit quieter with very little road noise or engine noise  The clutch and gear shift is soft and quick  I don t have any problems with grinding  while shifting  when I skip a gear  The sound system is nice  My daughters car seat fits nicely in the back and I don t have problems getting her out  I can fit more stuff in my Eclipse than I can in my Stratus  I would recommend this car for a responsible  mature driver  I would not recommend it for a teenager  The car will flat get away from you given the chance    "
            ],
            "text/html": [
              "\n",
              "  <div id=\"df-7f470243-c4e4-4bbd-8150-c4efb15d5162\">\n",
              "    <div class=\"colab-df-container\">\n",
              "      <div>\n",
              "<style scoped>\n",
              "    .dataframe tbody tr th:only-of-type {\n",
              "        vertical-align: middle;\n",
              "    }\n",
              "\n",
              "    .dataframe tbody tr th {\n",
              "        vertical-align: top;\n",
              "    }\n",
              "\n",
              "    .dataframe thead th {\n",
              "        text-align: right;\n",
              "    }\n",
              "</style>\n",
              "<table border=\"1\" class=\"dataframe\">\n",
              "  <thead>\n",
              "    <tr style=\"text-align: right;\">\n",
              "      <th></th>\n",
              "      <th>class</th>\n",
              "      <th>text</th>\n",
              "    </tr>\n",
              "  </thead>\n",
              "  <tbody>\n",
              "    <tr>\n",
              "      <th>110</th>\n",
              "      <td>Camera</td>\n",
              "      <td>Having looked around the Web for a digital camera I was looking at either the Z1 or the Canon EOD300 Rebel  Unfortunately the Rebel was out of my price range so I bought the Z1  Overall I made a very good choice The camera takes good pictures in the majority of circumstances  You can have full control over the aperture  exposure and focus should you wish too  The camera can take over some or all of the functions too if you wish Low light shooting is easy and there is an option for sunset preserve to keep the warmth of a picture rather than overexpose to simulate full light  Fast moving objects need good light  as you would expect  but the camera can still operate at speeds approaching 1600 ISO  the speeds are quoted in seconds and fractions so you will have to convert to ISO yourself if you are that way inclined Night shooting is an exercise in steadyness and the threaded mount is inline with the lens so tripods are easy to attach and use with the camera  The position of the trigger means taht a decent push is needed often spoiling the shot through movement on the tripod  I tended to use the time delay function after lining the shot up  since the exposur time was generally 2 seconds you wouldnt be able to take moment in time shots anyway as you would blur  however if motion blur was wanted for a set time then the lack of a remote may hinder you The flash was good with the red eye reduction setting annoying  3 distinct flashes are used rather than the usual strobe  but effective The viewfinder shows a full picture but it has an obvious border so you will get more than you see  The LCD screen shows the full picture  observed by me not scientifically proved  The viewfinder and LCD screen are served by the same mechanism and therefore cannot be activated at the same time  Long exposure shots are restricted to 10 seconds maximum  the sensor simply cannot take long exposure  I typically call long exposure at least 1 minute with traditional cameras taking maybe 30 minutes onwards  This is not a fault of the camera as most digital cameras suffer the same fate of  overheated  CCDs  Only the EOD300 can have long exposures  I have seen a 10 minute exposure picture  for a budget camera 10x optical zoom is terrific and even the autofocus at maximum zoom is quick and efficient  A certain knack needs to be adopted with the camera since the shutter trigger is a two position button  A half press will continually focus and a full press will take the picture  therefore if you simply press the button the shutter will appear to be slow since the focusing mechanism will kick in before the picture is taken  If you are anticipating a fast shot then half hold the button to activate the autofocus then the shutter can be activated quickly  Usign this methods the camer was faultless and fast I have never been a fan of megapixels to rate a camera  Rather the resolutions on offer are good and true  2048 scale very well   but dont expect many per a 128Mb card never mind the bundled 16Mb  Colour reproduction is faithful on daylight shots and average for evening shots with maybe a hint of overglow Battery life is great on rechargeables  I got 300 shots from a set of 2100 NIMH before they needed charging and I was using autofocus and zoom a lot  however if you use alkalines then expect 200 before the batteries are drained   note they wont be useless  good enough for remotes or clocks  but they have lost the edge for the drain the camera needs For negative points  the build quality is average  The mechanican shutter jammed on my only 1 week into using it  I couldnt shift between LCD and viewfinder and a heavy press was needed on the back screen to release the shutter  Not good  The battery compartment seems VERY flimsy and I worry about breaking it everytime I use it  and I charge my batteries in a smart charger not internally  No AC supply is included but the majority of people who need one will have a regulated supply to hand anyway The lack of remote function is the only noteable omission from a rather useful bargain camera</td>\n",
              "    </tr>\n",
              "    <tr>\n",
              "      <th>419</th>\n",
              "      <td>Auto</td>\n",
              "      <td>I bought a 2002 Eclipse because I had a 1992 V4 RS that I had to get rid of due to the birth of my daughter  Now that she no longer requires attention while I m having to manually shift gears  I have me another one  I found the V6 GT to be A LOT tighter than the 1992 I had  My husband and I recently went on an 1 100 mile trip in the car to far West Texas  We found ourselves repeatedly dodging deer  raccoons  jackrabbits  lizards and any other critter that happened on the road  The Eclipse hugged the curves  stayed on the road and responded quickly and this was at speeds of 80 90 miles per hour  It is also quite a bit quieter with very little road noise or engine noise  The clutch and gear shift is soft and quick  I don t have any problems with grinding  while shifting  when I skip a gear  The sound system is nice  My daughters car seat fits nicely in the back and I don t have problems getting her out  I can fit more stuff in my Eclipse than I can in my Stratus  I would recommend this car for a responsible  mature driver  I would not recommend it for a teenager  The car will flat get away from you given the chance</td>\n",
              "    </tr>\n",
              "  </tbody>\n",
              "</table>\n",
              "</div>\n",
              "      <button class=\"colab-df-convert\" onclick=\"convertToInteractive('df-7f470243-c4e4-4bbd-8150-c4efb15d5162')\"\n",
              "              title=\"Convert this dataframe to an interactive table.\"\n",
              "              style=\"display:none;\">\n",
              "        \n",
              "  <svg xmlns=\"http://www.w3.org/2000/svg\" height=\"24px\"viewBox=\"0 0 24 24\"\n",
              "       width=\"24px\">\n",
              "    <path d=\"M0 0h24v24H0V0z\" fill=\"none\"/>\n",
              "    <path d=\"M18.56 5.44l.94 2.06.94-2.06 2.06-.94-2.06-.94-.94-2.06-.94 2.06-2.06.94zm-11 1L8.5 8.5l.94-2.06 2.06-.94-2.06-.94L8.5 2.5l-.94 2.06-2.06.94zm10 10l.94 2.06.94-2.06 2.06-.94-2.06-.94-.94-2.06-.94 2.06-2.06.94z\"/><path d=\"M17.41 7.96l-1.37-1.37c-.4-.4-.92-.59-1.43-.59-.52 0-1.04.2-1.43.59L10.3 9.45l-7.72 7.72c-.78.78-.78 2.05 0 2.83L4 21.41c.39.39.9.59 1.41.59.51 0 1.02-.2 1.41-.59l7.78-7.78 2.81-2.81c.8-.78.8-2.07 0-2.86zM5.41 20L4 18.59l7.72-7.72 1.47 1.35L5.41 20z\"/>\n",
              "  </svg>\n",
              "      </button>\n",
              "      \n",
              "  <style>\n",
              "    .colab-df-container {\n",
              "      display:flex;\n",
              "      flex-wrap:wrap;\n",
              "      gap: 12px;\n",
              "    }\n",
              "\n",
              "    .colab-df-convert {\n",
              "      background-color: #E8F0FE;\n",
              "      border: none;\n",
              "      border-radius: 50%;\n",
              "      cursor: pointer;\n",
              "      display: none;\n",
              "      fill: #1967D2;\n",
              "      height: 32px;\n",
              "      padding: 0 0 0 0;\n",
              "      width: 32px;\n",
              "    }\n",
              "\n",
              "    .colab-df-convert:hover {\n",
              "      background-color: #E2EBFA;\n",
              "      box-shadow: 0px 1px 2px rgba(60, 64, 67, 0.3), 0px 1px 3px 1px rgba(60, 64, 67, 0.15);\n",
              "      fill: #174EA6;\n",
              "    }\n",
              "\n",
              "    [theme=dark] .colab-df-convert {\n",
              "      background-color: #3B4455;\n",
              "      fill: #D2E3FC;\n",
              "    }\n",
              "\n",
              "    [theme=dark] .colab-df-convert:hover {\n",
              "      background-color: #434B5C;\n",
              "      box-shadow: 0px 1px 3px 1px rgba(0, 0, 0, 0.15);\n",
              "      filter: drop-shadow(0px 1px 2px rgba(0, 0, 0, 0.3));\n",
              "      fill: #FFFFFF;\n",
              "    }\n",
              "  </style>\n",
              "\n",
              "      <script>\n",
              "        const buttonEl =\n",
              "          document.querySelector('#df-7f470243-c4e4-4bbd-8150-c4efb15d5162 button.colab-df-convert');\n",
              "        buttonEl.style.display =\n",
              "          google.colab.kernel.accessAllowed ? 'block' : 'none';\n",
              "\n",
              "        async function convertToInteractive(key) {\n",
              "          const element = document.querySelector('#df-7f470243-c4e4-4bbd-8150-c4efb15d5162');\n",
              "          const dataTable =\n",
              "            await google.colab.kernel.invokeFunction('convertToInteractive',\n",
              "                                                     [key], {});\n",
              "          if (!dataTable) return;\n",
              "\n",
              "          const docLinkHtml = 'Like what you see? Visit the ' +\n",
              "            '<a target=\"_blank\" href=https://colab.research.google.com/notebooks/data_table.ipynb>data table notebook</a>'\n",
              "            + ' to learn more about interactive tables.';\n",
              "          element.innerHTML = '';\n",
              "          dataTable['output_type'] = 'display_data';\n",
              "          await google.colab.output.renderOutput(dataTable, element);\n",
              "          const docLink = document.createElement('div');\n",
              "          docLink.innerHTML = docLinkHtml;\n",
              "          element.appendChild(docLink);\n",
              "        }\n",
              "      </script>\n",
              "    </div>\n",
              "  </div>\n",
              "  "
            ]
          },
          "metadata": {},
          "execution_count": 64
        }
      ]
    },
    {
      "cell_type": "code",
      "source": [
        "len(train)   #reviso la longitud de testo de train "
      ],
      "metadata": {
        "colab": {
          "base_uri": "https://localhost:8080/"
        },
        "id": "OLcgcLjkDsv0",
        "outputId": "71210fdf-9a30-4066-da3c-40c4daffb980"
      },
      "execution_count": 65,
      "outputs": [
        {
          "output_type": "execute_result",
          "data": {
            "text/plain": [
              "402"
            ]
          },
          "metadata": {},
          "execution_count": 65
        }
      ]
    },
    {
      "cell_type": "code",
      "source": [
        "len(test)   #reviso la longitud de texto de test"
      ],
      "metadata": {
        "colab": {
          "base_uri": "https://localhost:8080/"
        },
        "id": "Xryv8vwJDwJL",
        "outputId": "980b433e-5c64-4a94-d96e-653f3835b9bf"
      },
      "execution_count": 66,
      "outputs": [
        {
          "output_type": "execute_result",
          "data": {
            "text/plain": [
              "198"
            ]
          },
          "metadata": {},
          "execution_count": 66
        }
      ]
    },
    {
      "cell_type": "code",
      "source": [
        "train['class'].value_counts() #valido los datos que se tienen de cada articulo en train "
      ],
      "metadata": {
        "colab": {
          "base_uri": "https://localhost:8080/"
        },
        "id": "Nbe1J2lLFD7v",
        "outputId": "087a5c62-9225-437e-cd3a-f7a3952d867f"
      },
      "execution_count": 67,
      "outputs": [
        {
          "output_type": "execute_result",
          "data": {
            "text/plain": [
              "Camera    239\n",
              "Auto      163\n",
              "Name: class, dtype: int64"
            ]
          },
          "metadata": {},
          "execution_count": 67
        }
      ]
    },
    {
      "cell_type": "code",
      "source": [
        "test['class'].value_counts()  #valido los datos que se tienen de cada articulo en test"
      ],
      "metadata": {
        "colab": {
          "base_uri": "https://localhost:8080/"
        },
        "id": "ls1Tp8ePFMdZ",
        "outputId": "86ad2970-591d-4ab0-d63e-09d4acdae24d"
      },
      "execution_count": 68,
      "outputs": [
        {
          "output_type": "execute_result",
          "data": {
            "text/plain": [
              "Camera    111\n",
              "Auto       87\n",
              "Name: class, dtype: int64"
            ]
          },
          "metadata": {},
          "execution_count": 68
        }
      ]
    },
    {
      "cell_type": "code",
      "source": [
        "train_x = train['text'].to_list()  #divido los datos train y los paso a lista \n",
        "train_y = train['class'].to_list()"
      ],
      "metadata": {
        "id": "HlxhOhkBGkMD"
      },
      "execution_count": 69,
      "outputs": []
    },
    {
      "cell_type": "code",
      "source": [
        "test_x = test['text'].to_list()   #divido los datos test y los paso a lista \n",
        "test_y = test['class'].to_list()"
      ],
      "metadata": {
        "id": "eoPit9cSGyAI"
      },
      "execution_count": 70,
      "outputs": []
    },
    {
      "cell_type": "code",
      "source": [
        "from sklearn.feature_extraction.text import CountVectorizer  #para entrenar el modelo de bolsa de palabras para representar un documento \n",
        "vectorizer = CountVectorizer()                                  #ignorando el orden de las palabras "
      ],
      "metadata": {
        "id": "oiq7EnT3IzLr"
      },
      "execution_count": 71,
      "outputs": []
    },
    {
      "cell_type": "code",
      "source": [
        "train_x_vectors = vectorizer.fit_transform(train_x)"
      ],
      "metadata": {
        "id": "yXlnWNQBKiLN"
      },
      "execution_count": 72,
      "outputs": []
    },
    {
      "cell_type": "code",
      "source": [
        "test_x_vectors = vectorizer.transform(test_x)"
      ],
      "metadata": {
        "id": "u1hOuwFnLKhc"
      },
      "execution_count": 73,
      "outputs": []
    },
    {
      "cell_type": "code",
      "source": [
        "train_x_vectors.shape"
      ],
      "metadata": {
        "colab": {
          "base_uri": "https://localhost:8080/"
        },
        "id": "C5XVzZLWLQy_",
        "outputId": "119de1f1-8eaa-41a5-c2cf-f6b1b8cfbcda"
      },
      "execution_count": 74,
      "outputs": [
        {
          "output_type": "execute_result",
          "data": {
            "text/plain": [
              "(402, 10558)"
            ]
          },
          "metadata": {},
          "execution_count": 74
        }
      ]
    },
    {
      "cell_type": "code",
      "source": [
        "print(train_x_vectors[0])  #me dice que la palabra de la posicion ej 4618 esta 2 veces en cada opinion de clientes \n",
        "                            #, la 1539 3 veces ..etc"
      ],
      "metadata": {
        "colab": {
          "base_uri": "https://localhost:8080/"
        },
        "id": "VAPZZmC2MCUU",
        "outputId": "f34a67cc-0e2c-4320-af9d-13c9931979b9"
      },
      "execution_count": 75,
      "outputs": [
        {
          "output_type": "stream",
          "name": "stdout",
          "text": [
            "  (0, 4618)\t2\n",
            "  (0, 1539)\t3\n",
            "  (0, 4802)\t1\n",
            "  (0, 1322)\t3\n",
            "  (0, 3147)\t2\n",
            "  (0, 1957)\t3\n",
            "  (0, 4205)\t1\n",
            "  (0, 2191)\t1\n",
            "  (0, 1889)\t4\n",
            "  (0, 10227)\t1\n",
            "  (0, 9260)\t1\n",
            "  (0, 10321)\t1\n",
            "  (0, 6293)\t3\n",
            "  (0, 4925)\t1\n",
            "  (0, 908)\t1\n",
            "  (0, 4491)\t1\n",
            "  (0, 6595)\t2\n",
            "  (0, 999)\t1\n",
            "  (0, 9343)\t1\n",
            "  (0, 9598)\t13\n",
            "  (0, 8411)\t1\n",
            "  (0, 6913)\t2\n",
            "  (0, 1734)\t1\n",
            "  (0, 8171)\t1\n",
            "  (0, 1131)\t8\n",
            "  :\t:\n",
            "  (0, 2104)\t1\n",
            "  (0, 8404)\t1\n",
            "  (0, 4778)\t1\n",
            "  (0, 4018)\t1\n",
            "  (0, 852)\t1\n",
            "  (0, 10438)\t1\n",
            "  (0, 5386)\t2\n",
            "  (0, 4062)\t1\n",
            "  (0, 10403)\t1\n",
            "  (0, 9466)\t1\n",
            "  (0, 9479)\t1\n",
            "  (0, 10454)\t1\n",
            "  (0, 5851)\t1\n",
            "  (0, 3319)\t2\n",
            "  (0, 2463)\t2\n",
            "  (0, 3452)\t1\n",
            "  (0, 3948)\t1\n",
            "  (0, 1125)\t1\n",
            "  (0, 6578)\t1\n",
            "  (0, 9338)\t1\n",
            "  (0, 2680)\t1\n",
            "  (0, 6111)\t1\n",
            "  (0, 5725)\t1\n",
            "  (0, 4420)\t1\n",
            "  (0, 4311)\t1\n"
          ]
        }
      ]
    },
    {
      "cell_type": "code",
      "source": [
        "from sklearn.tree import DecisionTreeClassifier  # utilizo modelo de arbol de decicion 1\n",
        "clf_dec = DecisionTreeClassifier()\n",
        "clf_dec.fit(train_x_vectors, train_y)"
      ],
      "metadata": {
        "id": "-E9qG_giPn1J",
        "colab": {
          "base_uri": "https://localhost:8080/",
          "height": 74
        },
        "outputId": "5de4c6fe-5ca6-48bc-f7a1-335f74cf2606"
      },
      "execution_count": 86,
      "outputs": [
        {
          "output_type": "execute_result",
          "data": {
            "text/plain": [
              "DecisionTreeClassifier()"
            ],
            "text/html": [
              "<style>#sk-container-id-5 {color: black;background-color: white;}#sk-container-id-5 pre{padding: 0;}#sk-container-id-5 div.sk-toggleable {background-color: white;}#sk-container-id-5 label.sk-toggleable__label {cursor: pointer;display: block;width: 100%;margin-bottom: 0;padding: 0.3em;box-sizing: border-box;text-align: center;}#sk-container-id-5 label.sk-toggleable__label-arrow:before {content: \"▸\";float: left;margin-right: 0.25em;color: #696969;}#sk-container-id-5 label.sk-toggleable__label-arrow:hover:before {color: black;}#sk-container-id-5 div.sk-estimator:hover label.sk-toggleable__label-arrow:before {color: black;}#sk-container-id-5 div.sk-toggleable__content {max-height: 0;max-width: 0;overflow: hidden;text-align: left;background-color: #f0f8ff;}#sk-container-id-5 div.sk-toggleable__content pre {margin: 0.2em;color: black;border-radius: 0.25em;background-color: #f0f8ff;}#sk-container-id-5 input.sk-toggleable__control:checked~div.sk-toggleable__content {max-height: 200px;max-width: 100%;overflow: auto;}#sk-container-id-5 input.sk-toggleable__control:checked~label.sk-toggleable__label-arrow:before {content: \"▾\";}#sk-container-id-5 div.sk-estimator input.sk-toggleable__control:checked~label.sk-toggleable__label {background-color: #d4ebff;}#sk-container-id-5 div.sk-label input.sk-toggleable__control:checked~label.sk-toggleable__label {background-color: #d4ebff;}#sk-container-id-5 input.sk-hidden--visually {border: 0;clip: rect(1px 1px 1px 1px);clip: rect(1px, 1px, 1px, 1px);height: 1px;margin: -1px;overflow: hidden;padding: 0;position: absolute;width: 1px;}#sk-container-id-5 div.sk-estimator {font-family: monospace;background-color: #f0f8ff;border: 1px dotted black;border-radius: 0.25em;box-sizing: border-box;margin-bottom: 0.5em;}#sk-container-id-5 div.sk-estimator:hover {background-color: #d4ebff;}#sk-container-id-5 div.sk-parallel-item::after {content: \"\";width: 100%;border-bottom: 1px solid gray;flex-grow: 1;}#sk-container-id-5 div.sk-label:hover label.sk-toggleable__label {background-color: #d4ebff;}#sk-container-id-5 div.sk-serial::before {content: \"\";position: absolute;border-left: 1px solid gray;box-sizing: border-box;top: 0;bottom: 0;left: 50%;z-index: 0;}#sk-container-id-5 div.sk-serial {display: flex;flex-direction: column;align-items: center;background-color: white;padding-right: 0.2em;padding-left: 0.2em;position: relative;}#sk-container-id-5 div.sk-item {position: relative;z-index: 1;}#sk-container-id-5 div.sk-parallel {display: flex;align-items: stretch;justify-content: center;background-color: white;position: relative;}#sk-container-id-5 div.sk-item::before, #sk-container-id-5 div.sk-parallel-item::before {content: \"\";position: absolute;border-left: 1px solid gray;box-sizing: border-box;top: 0;bottom: 0;left: 50%;z-index: -1;}#sk-container-id-5 div.sk-parallel-item {display: flex;flex-direction: column;z-index: 1;position: relative;background-color: white;}#sk-container-id-5 div.sk-parallel-item:first-child::after {align-self: flex-end;width: 50%;}#sk-container-id-5 div.sk-parallel-item:last-child::after {align-self: flex-start;width: 50%;}#sk-container-id-5 div.sk-parallel-item:only-child::after {width: 0;}#sk-container-id-5 div.sk-dashed-wrapped {border: 1px dashed gray;margin: 0 0.4em 0.5em 0.4em;box-sizing: border-box;padding-bottom: 0.4em;background-color: white;}#sk-container-id-5 div.sk-label label {font-family: monospace;font-weight: bold;display: inline-block;line-height: 1.2em;}#sk-container-id-5 div.sk-label-container {text-align: center;}#sk-container-id-5 div.sk-container {/* jupyter's `normalize.less` sets `[hidden] { display: none; }` but bootstrap.min.css set `[hidden] { display: none !important; }` so we also need the `!important` here to be able to override the default hidden behavior on the sphinx rendered scikit-learn.org. See: https://github.com/scikit-learn/scikit-learn/issues/21755 */display: inline-block !important;position: relative;}#sk-container-id-5 div.sk-text-repr-fallback {display: none;}</style><div id=\"sk-container-id-5\" class=\"sk-top-container\"><div class=\"sk-text-repr-fallback\"><pre>DecisionTreeClassifier()</pre><b>In a Jupyter environment, please rerun this cell to show the HTML representation or trust the notebook. <br />On GitHub, the HTML representation is unable to render, please try loading this page with nbviewer.org.</b></div><div class=\"sk-container\" hidden><div class=\"sk-item\"><div class=\"sk-estimator sk-toggleable\"><input class=\"sk-toggleable__control sk-hidden--visually\" id=\"sk-estimator-id-5\" type=\"checkbox\" checked><label for=\"sk-estimator-id-5\" class=\"sk-toggleable__label sk-toggleable__label-arrow\">DecisionTreeClassifier</label><div class=\"sk-toggleable__content\"><pre>DecisionTreeClassifier()</pre></div></div></div></div></div>"
            ]
          },
          "metadata": {},
          "execution_count": 86
        }
      ]
    },
    {
      "cell_type": "code",
      "source": [
        "# 5 evaluo el modelo"
      ],
      "metadata": {
        "id": "EaDh9u13Qdt9"
      },
      "execution_count": 77,
      "outputs": []
    },
    {
      "cell_type": "code",
      "source": [
        "test_x[0]  #reviso el texto "
      ],
      "metadata": {
        "colab": {
          "base_uri": "https://localhost:8080/",
          "height": 161
        },
        "id": "wZ1IHUQKQqzx",
        "outputId": "6c33c6c0-2006-49c1-fccd-143bca7e0a12"
      },
      "execution_count": 78,
      "outputs": [
        {
          "output_type": "execute_result",
          "data": {
            "text/plain": [
              "' Having looked around the Web for a digital camera I was looking at either the Z1 or the Canon EOD300 Rebel  Unfortunately the Rebel was out of my price range so I bought the Z1  Overall I made a very good choice The camera takes good pictures in the majority of circumstances  You can have full control over the aperture  exposure and focus should you wish too  The camera can take over some or all of the functions too if you wish Low light shooting is easy and there is an option for sunset preserve to keep the warmth of a picture rather than overexpose to simulate full light  Fast moving objects need good light  as you would expect  but the camera can still operate at speeds approaching 1600 ISO  the speeds are quoted in seconds and fractions so you will have to convert to ISO yourself if you are that way inclined Night shooting is an exercise in steadyness and the threaded mount is inline with the lens so tripods are easy to attach and use with the camera  The position of the trigger means taht a decent push is needed often spoiling the shot through movement on the tripod  I tended to use the time delay function after lining the shot up  since the exposur time was generally 2 seconds you wouldnt be able to take moment in time shots anyway as you would blur  however if motion blur was wanted for a set time then the lack of a remote may hinder you The flash was good with the red eye reduction setting annoying  3 distinct flashes are used rather than the usual strobe  but effective The viewfinder shows a full picture but it has an obvious border so you will get more than you see  The LCD screen shows the full picture  observed by me not scientifically proved  The viewfinder and LCD screen are served by the same mechanism and therefore cannot be activated at the same time  Long exposure shots are restricted to 10 seconds maximum  the sensor simply cannot take long exposure  I typically call long exposure at least 1 minute with traditional cameras taking maybe 30 minutes onwards  This is not a fault of the camera as most digital cameras suffer the same fate of  overheated  CCDs  Only the EOD300 can have long exposures  I have seen a 10 minute exposure picture  for a budget camera 10x optical zoom is terrific and even the autofocus at maximum zoom is quick and efficient  A certain knack needs to be adopted with the camera since the shutter trigger is a two position button  A half press will continually focus and a full press will take the picture  therefore if you simply press the button the shutter will appear to be slow since the focusing mechanism will kick in before the picture is taken  If you are anticipating a fast shot then half hold the button to activate the autofocus then the shutter can be activated quickly  Usign this methods the camer was faultless and fast I have never been a fan of megapixels to rate a camera  Rather the resolutions on offer are good and true  2048 scale very well   but dont expect many per a 128Mb card never mind the bundled 16Mb  Colour reproduction is faithful on daylight shots and average for evening shots with maybe a hint of overglow Battery life is great on rechargeables  I got 300 shots from a set of 2100 NIMH before they needed charging and I was using autofocus and zoom a lot  however if you use alkalines then expect 200 before the batteries are drained   note they wont be useless  good enough for remotes or clocks  but they have lost the edge for the drain the camera needs For negative points  the build quality is average  The mechanican shutter jammed on my only 1 week into using it  I couldnt shift between LCD and viewfinder and a heavy press was needed on the back screen to release the shutter  Not good  The battery compartment seems VERY flimsy and I worry about breaking it everytime I use it  and I charge my batteries in a smart charger not internally  No AC supply is included but the majority of people who need one will have a regulated supply to hand anyway The lack of remote function is the only noteable omission from a rather useful bargain camera  '"
            ],
            "application/vnd.google.colaboratory.intrinsic+json": {
              "type": "string"
            }
          },
          "metadata": {},
          "execution_count": 78
        }
      ]
    },
    {
      "cell_type": "code",
      "source": [
        "from IPython.utils import text\n",
        "clf_dec.predict(test_x_vectors[0])  #con predict se hace predixion que el texto anterior corresponde a camara no a carro que son \n",
        "                                    #los objetos del analisis"
      ],
      "metadata": {
        "colab": {
          "base_uri": "https://localhost:8080/"
        },
        "id": "58HhgtLWQ-4H",
        "outputId": "382a6433-b8e2-49b7-8ee0-181720de687c"
      },
      "execution_count": 87,
      "outputs": [
        {
          "output_type": "execute_result",
          "data": {
            "text/plain": [
              "array(['Camera'], dtype='<U6')"
            ]
          },
          "metadata": {},
          "execution_count": 87
        }
      ]
    },
    {
      "cell_type": "code",
      "source": [
        "clf_dec.score(test_x_vectors, test_y) #me dice el porcentaje dde la exactitud del modelo  "
      ],
      "metadata": {
        "colab": {
          "base_uri": "https://localhost:8080/"
        },
        "id": "9vaC_wb-Sq5p",
        "outputId": "e80c06a0-f52a-452b-a563-df74c22c7bb8"
      },
      "execution_count": 80,
      "outputs": [
        {
          "output_type": "execute_result",
          "data": {
            "text/plain": [
              "0.9949494949494949"
            ]
          },
          "metadata": {},
          "execution_count": 80
        }
      ]
    },
    {
      "cell_type": "code",
      "source": [
        "from sklearn.metrics import f1_score    #f1 es el promedio ponderado donde el mejor valor es 1 y la peor es 0 del funcionamiento del modelo\n",
        "f1_score(test_y, clf_dec.predict(test_x_vectors), average= None)"
      ],
      "metadata": {
        "colab": {
          "base_uri": "https://localhost:8080/"
        },
        "id": "aAG-JGVvaKHZ",
        "outputId": "84a0efe4-0832-44bc-917b-b1ace50a5f13"
      },
      "execution_count": 81,
      "outputs": [
        {
          "output_type": "execute_result",
          "data": {
            "text/plain": [
              "array([0.99428571, 0.99547511])"
            ]
          },
          "metadata": {},
          "execution_count": 81
        }
      ]
    },
    {
      "cell_type": "code",
      "source": [
        "from sklearn.metrics import confusion_matrix  #me muestra  87 son postivos y 110 negativos\n",
        "confusion_matrix(test_y, clf_dec.predict(test_x_vectors))"
      ],
      "metadata": {
        "colab": {
          "base_uri": "https://localhost:8080/"
        },
        "id": "xQfV64ymg19r",
        "outputId": "7d3ac09d-3f02-463f-e060-fcf239fd0fa1"
      },
      "execution_count": 82,
      "outputs": [
        {
          "output_type": "execute_result",
          "data": {
            "text/plain": [
              "array([[ 87,   0],\n",
              "       [  1, 110]])"
            ]
          },
          "metadata": {},
          "execution_count": 82
        }
      ]
    },
    {
      "cell_type": "code",
      "source": [
        "test_de_prueba = ['i like my camera', 'my car is not working']  #para probar el modelo, \n",
        "new_test = vectorizer.transform (test_de_prueba)                # me muestra si una opinion hace referencia a una camara o un carro \n",
        "clf_dec.predict(new_test)                                        #que son los articulos de analisis "
      ],
      "metadata": {
        "colab": {
          "base_uri": "https://localhost:8080/"
        },
        "id": "dtdjrv0qiw91",
        "outputId": "cc4eca68-bb95-4835-a0f5-87635783b2f8"
      },
      "execution_count": 83,
      "outputs": [
        {
          "output_type": "execute_result",
          "data": {
            "text/plain": [
              "array(['Camera', 'Auto'], dtype='<U6')"
            ]
          },
          "metadata": {},
          "execution_count": 83
        }
      ]
    },
    {
      "cell_type": "code",
      "source": [
        "from sklearn import svm\n",
        "clf_svm = svm.SVC(kernel='linear')\n",
        "clf_svm.fit(train_x_vectors, train_y)"
      ],
      "metadata": {
        "colab": {
          "base_uri": "https://localhost:8080/",
          "height": 74
        },
        "id": "twyW_kDQlUWB",
        "outputId": "3966c10e-d9ce-4dbc-d58d-508f7386ebc2"
      },
      "execution_count": 84,
      "outputs": [
        {
          "output_type": "execute_result",
          "data": {
            "text/plain": [
              "SVC(kernel='linear')"
            ],
            "text/html": [
              "<style>#sk-container-id-4 {color: black;background-color: white;}#sk-container-id-4 pre{padding: 0;}#sk-container-id-4 div.sk-toggleable {background-color: white;}#sk-container-id-4 label.sk-toggleable__label {cursor: pointer;display: block;width: 100%;margin-bottom: 0;padding: 0.3em;box-sizing: border-box;text-align: center;}#sk-container-id-4 label.sk-toggleable__label-arrow:before {content: \"▸\";float: left;margin-right: 0.25em;color: #696969;}#sk-container-id-4 label.sk-toggleable__label-arrow:hover:before {color: black;}#sk-container-id-4 div.sk-estimator:hover label.sk-toggleable__label-arrow:before {color: black;}#sk-container-id-4 div.sk-toggleable__content {max-height: 0;max-width: 0;overflow: hidden;text-align: left;background-color: #f0f8ff;}#sk-container-id-4 div.sk-toggleable__content pre {margin: 0.2em;color: black;border-radius: 0.25em;background-color: #f0f8ff;}#sk-container-id-4 input.sk-toggleable__control:checked~div.sk-toggleable__content {max-height: 200px;max-width: 100%;overflow: auto;}#sk-container-id-4 input.sk-toggleable__control:checked~label.sk-toggleable__label-arrow:before {content: \"▾\";}#sk-container-id-4 div.sk-estimator input.sk-toggleable__control:checked~label.sk-toggleable__label {background-color: #d4ebff;}#sk-container-id-4 div.sk-label input.sk-toggleable__control:checked~label.sk-toggleable__label {background-color: #d4ebff;}#sk-container-id-4 input.sk-hidden--visually {border: 0;clip: rect(1px 1px 1px 1px);clip: rect(1px, 1px, 1px, 1px);height: 1px;margin: -1px;overflow: hidden;padding: 0;position: absolute;width: 1px;}#sk-container-id-4 div.sk-estimator {font-family: monospace;background-color: #f0f8ff;border: 1px dotted black;border-radius: 0.25em;box-sizing: border-box;margin-bottom: 0.5em;}#sk-container-id-4 div.sk-estimator:hover {background-color: #d4ebff;}#sk-container-id-4 div.sk-parallel-item::after {content: \"\";width: 100%;border-bottom: 1px solid gray;flex-grow: 1;}#sk-container-id-4 div.sk-label:hover label.sk-toggleable__label {background-color: #d4ebff;}#sk-container-id-4 div.sk-serial::before {content: \"\";position: absolute;border-left: 1px solid gray;box-sizing: border-box;top: 0;bottom: 0;left: 50%;z-index: 0;}#sk-container-id-4 div.sk-serial {display: flex;flex-direction: column;align-items: center;background-color: white;padding-right: 0.2em;padding-left: 0.2em;position: relative;}#sk-container-id-4 div.sk-item {position: relative;z-index: 1;}#sk-container-id-4 div.sk-parallel {display: flex;align-items: stretch;justify-content: center;background-color: white;position: relative;}#sk-container-id-4 div.sk-item::before, #sk-container-id-4 div.sk-parallel-item::before {content: \"\";position: absolute;border-left: 1px solid gray;box-sizing: border-box;top: 0;bottom: 0;left: 50%;z-index: -1;}#sk-container-id-4 div.sk-parallel-item {display: flex;flex-direction: column;z-index: 1;position: relative;background-color: white;}#sk-container-id-4 div.sk-parallel-item:first-child::after {align-self: flex-end;width: 50%;}#sk-container-id-4 div.sk-parallel-item:last-child::after {align-self: flex-start;width: 50%;}#sk-container-id-4 div.sk-parallel-item:only-child::after {width: 0;}#sk-container-id-4 div.sk-dashed-wrapped {border: 1px dashed gray;margin: 0 0.4em 0.5em 0.4em;box-sizing: border-box;padding-bottom: 0.4em;background-color: white;}#sk-container-id-4 div.sk-label label {font-family: monospace;font-weight: bold;display: inline-block;line-height: 1.2em;}#sk-container-id-4 div.sk-label-container {text-align: center;}#sk-container-id-4 div.sk-container {/* jupyter's `normalize.less` sets `[hidden] { display: none; }` but bootstrap.min.css set `[hidden] { display: none !important; }` so we also need the `!important` here to be able to override the default hidden behavior on the sphinx rendered scikit-learn.org. See: https://github.com/scikit-learn/scikit-learn/issues/21755 */display: inline-block !important;position: relative;}#sk-container-id-4 div.sk-text-repr-fallback {display: none;}</style><div id=\"sk-container-id-4\" class=\"sk-top-container\"><div class=\"sk-text-repr-fallback\"><pre>SVC(kernel=&#x27;linear&#x27;)</pre><b>In a Jupyter environment, please rerun this cell to show the HTML representation or trust the notebook. <br />On GitHub, the HTML representation is unable to render, please try loading this page with nbviewer.org.</b></div><div class=\"sk-container\" hidden><div class=\"sk-item\"><div class=\"sk-estimator sk-toggleable\"><input class=\"sk-toggleable__control sk-hidden--visually\" id=\"sk-estimator-id-4\" type=\"checkbox\" checked><label for=\"sk-estimator-id-4\" class=\"sk-toggleable__label sk-toggleable__label-arrow\">SVC</label><div class=\"sk-toggleable__content\"><pre>SVC(kernel=&#x27;linear&#x27;)</pre></div></div></div></div></div>"
            ]
          },
          "metadata": {},
          "execution_count": 84
        }
      ]
    },
    {
      "cell_type": "code",
      "source": [
        "clf_svm.score(test_x_vectors,test_y)"
      ],
      "metadata": {
        "colab": {
          "base_uri": "https://localhost:8080/"
        },
        "id": "rG1DXe_Kmq88",
        "outputId": "f53bc3c8-9e2d-4672-8c57-d20d138294e8"
      },
      "execution_count": 85,
      "outputs": [
        {
          "output_type": "execute_result",
          "data": {
            "text/plain": [
              "1.0"
            ]
          },
          "metadata": {},
          "execution_count": 85
        }
      ]
    }
  ]
}